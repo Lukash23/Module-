{
  "cells": [
    {
      "cell_type": "markdown",
      "metadata": {
        "id": "view-in-github",
        "colab_type": "text"
      },
      "source": [
        "<a href=\"https://colab.research.google.com/github/Lukash23/Module-/blob/main/ShresthaLukash_3913_01_CPSMA_Module7.ipynb\" target=\"_parent\"><img src=\"https://colab.research.google.com/assets/colab-badge.svg\" alt=\"Open In Colab\"/></a>"
      ]
    },
    {
      "cell_type": "markdown",
      "source": [
        "Module 7 Project Lukash Shrestha CPSMA 3913-01 Nicholas C Jacob"
      ],
      "metadata": {
        "id": "I4woSHUGJTZ-"
      }
    },
    {
      "cell_type": "code",
      "execution_count": 1,
      "metadata": {
        "id": "842u3LYDJOBb"
      },
      "outputs": [],
      "source": [
        "#creating a function to generate truth tables\n",
        "def truthTable(expression,inputs=2):\n",
        "    #getting a text as a boolean expression\n",
        "  print(\"Boolean Expression:\")\n",
        "  print(\"  X = \" + expression.upper())\n",
        "  expression = expression.lower()\n",
        "  \n",
        "  #replace Boolean Operators with bitwise operators\n",
        "  expression = expression.replace(\"and\",\"&\")\n",
        "  expression = expression.replace(\"xor\",\"^\")\n",
        "  expression = expression.replace(\"or\",\"|\")\n",
        "  expression = expression.replace(\"not\",\"~\")\n",
        "  \n",
        "  print(\"\\nTruth Table:\")\n",
        "  #multiple if statesments for various number of variables\n",
        "  if inputs==2:\n",
        "    print(\"  -------------\")\n",
        "    print(\"  | P | Q | X |\")\n",
        "    print(\"  -------------\")\n",
        "    \n",
        "    for p in range(0,2):\n",
        "      #evaluvating expression and pritning\n",
        "      for q in range(0,2):\n",
        "        x = eval(expression)\n",
        "        print(\"  | \" + str(p) + \" | \" + str(q) + \" | \" + str(x) + \" |\" )\n",
        "        print(\"  -------------\")\n",
        "        \n",
        "  elif inputs==3:\n",
        "        #printing header of tables\n",
        "    print(\"  -----------------\")\n",
        "    print(\"  | P | Q | R | X |\")\n",
        "    print(\"  -----------------\")\n",
        "    #evaluvating expression and printing\n",
        "    for p in range(0,2):\n",
        "      for q in range(0,2):\n",
        "        for r in range(0,2):\n",
        "          x = eval(expression)\n",
        "          print(\"  | \" + str(p) + \" | \" + str(q) + \" | \" + str(r) + \" | \" + str(x) + \" |\" )\n",
        "          print(\"  -----------------\")\n",
        "        \n",
        "    \n",
        "  elif inputs==4:\n",
        "        #printing header of tables\n",
        "    print(\"  ---------------------\")\n",
        "    print(\"  | P | Q | R | S | X |\")\n",
        "    print(\"  ---------------------\")\n",
        "    \n",
        "    for p in range(0,2):\n",
        "      for q in range(0,2):\n",
        "        for r in range(0,2):\n",
        "          for s in range(0,2):\n",
        "            x = eval(expression)\n",
        "            print(\"  | \" + str(a) + \" | \" + str(b) + \" | \" + str(c) + \" | \" + str(d) + \" | \" + str(x) + \" |\" )\n",
        "            print(\"  ---------------------\")\n",
        "\n",
        "##############################################\n",
        "\n",
        "\n",
        "\n"
      ]
    },
    {
      "cell_type": "code",
      "execution_count": null,
      "metadata": {
        "id": "psOZKK0wJOBe",
        "outputId": "05ab2c51-e23a-4ae3-e660-81d8748ec105"
      },
      "outputs": [
        {
          "name": "stdout",
          "output_type": "stream",
          "text": [
            "Boolean Expression:\n",
            "  X = P AND NOT (Q XOR R)\n",
            "\n",
            "Truth Table:\n",
            "  -----------------\n",
            "  | P | Q | R | X |\n",
            "  -----------------\n",
            "  | 0 | 0 | 0 | 0 |\n",
            "  -----------------\n",
            "  | 0 | 0 | 1 | 0 |\n",
            "  -----------------\n",
            "  | 0 | 1 | 0 | 0 |\n",
            "  -----------------\n",
            "  | 0 | 1 | 1 | 0 |\n",
            "  -----------------\n",
            "  | 1 | 0 | 0 | 1 |\n",
            "  -----------------\n",
            "  | 1 | 0 | 1 | 0 |\n",
            "  -----------------\n",
            "  | 1 | 1 | 0 | 0 |\n",
            "  -----------------\n",
            "  | 1 | 1 | 1 | 1 |\n",
            "  -----------------\n"
          ]
        }
      ],
      "source": [
        "#expression for input as the boolean expression\n",
        "expression = \"P AND NOT (Q XOR R)\"\n",
        "#implementing the previously written function\n",
        "truthTable(expression,3)\n"
      ]
    },
    {
      "cell_type": "code",
      "execution_count": null,
      "metadata": {
        "id": "w6eccqA2JOBf",
        "outputId": "9f07c0d6-2713-46cd-b835-eb6c25427fa3"
      },
      "outputs": [
        {
          "name": "stdout",
          "output_type": "stream",
          "text": [
            "Boolean Expression:\n",
            "  X = P AND Q  \n",
            "\n",
            "Truth Table:\n",
            "  -------------\n",
            "  | P | Q | X |\n",
            "  -------------\n",
            "  | 0 | 0 | 0 |\n",
            "  -------------\n",
            "  | 0 | 1 | 0 |\n",
            "  -------------\n",
            "  | 1 | 0 | 0 |\n",
            "  -------------\n",
            "  | 1 | 1 | 1 |\n",
            "  -------------\n"
          ]
        }
      ],
      "source": [
        "#part b\n",
        "#expression for input as the boolean expression\n",
        "expression = \"P AND Q  \"\n",
        "#implementing the previously written function\n",
        "truthTable(expression,2)"
      ]
    },
    {
      "cell_type": "code",
      "execution_count": null,
      "metadata": {
        "id": "zjgovnp5JOBf",
        "outputId": "af47cce5-1fe4-4ecf-a9e0-999babf42845"
      },
      "outputs": [
        {
          "name": "stdout",
          "output_type": "stream",
          "text": [
            "Boolean Expression:\n",
            "  X = NOT Q AND P \n",
            "\n",
            "Truth Table:\n",
            "  -----------------\n",
            "  | P | Q | R | X |\n",
            "  -----------------\n",
            "  | 0 | 0 | 0 | 0 |\n",
            "  -----------------\n",
            "  | 0 | 0 | 1 | 0 |\n",
            "  -----------------\n",
            "  | 0 | 1 | 0 | 0 |\n",
            "  -----------------\n",
            "  | 0 | 1 | 1 | 0 |\n",
            "  -----------------\n",
            "  | 1 | 0 | 0 | 1 |\n",
            "  -----------------\n",
            "  | 1 | 0 | 1 | 1 |\n",
            "  -----------------\n",
            "  | 1 | 1 | 0 | 0 |\n",
            "  -----------------\n",
            "  | 1 | 1 | 1 | 0 |\n",
            "  -----------------\n"
          ]
        }
      ],
      "source": [
        "#expression for input as the boolean expression\n",
        "expression = \"NOT Q AND P \"\n",
        "#implementing the previously written function\n",
        "truthTable(expression,3)"
      ]
    },
    {
      "cell_type": "code",
      "execution_count": null,
      "metadata": {
        "id": "BsKjQJNAJOBg",
        "outputId": "0a35a6a4-2aa3-479f-a977-5fe3e0dcf9f1"
      },
      "outputs": [
        {
          "name": "stdout",
          "output_type": "stream",
          "text": [
            "Boolean Expression:\n",
            "  X = P IS Q\n",
            "\n",
            "Truth Table:\n",
            "  -------------\n",
            "  | P | Q | X |\n",
            "  -------------\n",
            "  | 0 | 0 | True |\n",
            "  -------------\n",
            "  | 0 | 1 | False |\n",
            "  -------------\n",
            "  | 1 | 0 | False |\n",
            "  -------------\n",
            "  | 1 | 1 | True |\n",
            "  -------------\n"
          ]
        }
      ],
      "source": [
        "#expression for input as the boolean expression\n",
        "expression = \"P IS Q\"\n",
        "#implementing the previously written function\n",
        "truthTable(expression,2)"
      ]
    },
    {
      "cell_type": "code",
      "execution_count": null,
      "metadata": {
        "id": "psmxNDWQJOBg",
        "outputId": "6a402945-158c-40bb-c02a-fd9ae03223cd"
      },
      "outputs": [
        {
          "name": "stdout",
          "output_type": "stream",
          "text": [
            "Boolean Expression:\n",
            "  X = NOT(R XOR P) IS (P OR Q)\n",
            "\n",
            "Truth Table:\n",
            "  -----------------\n",
            "  | P | Q | R | X |\n",
            "  -----------------\n",
            "  | 0 | 0 | 0 | False |\n",
            "  -----------------\n",
            "  | 0 | 0 | 1 | False |\n",
            "  -----------------\n",
            "  | 0 | 1 | 0 | False |\n",
            "  -----------------\n",
            "  | 0 | 1 | 1 | False |\n",
            "  -----------------\n",
            "  | 1 | 0 | 0 | False |\n",
            "  -----------------\n",
            "  | 1 | 0 | 1 | False |\n",
            "  -----------------\n",
            "  | 1 | 1 | 0 | False |\n",
            "  -----------------\n",
            "  | 1 | 1 | 1 | False |\n",
            "  -----------------\n"
          ]
        }
      ],
      "source": [
        "#part c\n",
        "\n",
        "#expression for input as the boolean expression\n",
        "expression = \"NOT(R XOR P) IS (P OR Q)\"\n",
        "#implementing the previously written function\n",
        "truthTable(expression,3)"
      ]
    },
    {
      "cell_type": "code",
      "execution_count": null,
      "metadata": {
        "id": "mvoFZPXJJOBh"
      },
      "outputs": [],
      "source": [
        ""
      ]
    }
  ],
  "metadata": {
    "interpreter": {
      "hash": "bf565c025d3701993c97249376cc09242b4adea27da49e48a826555ffe2c1853"
    },
    "kernelspec": {
      "display_name": "Python 3.8.5 ('base')",
      "language": "python",
      "name": "python3"
    },
    "language_info": {
      "codemirror_mode": {
        "name": "ipython",
        "version": 3
      },
      "file_extension": ".py",
      "mimetype": "text/x-python",
      "name": "python",
      "nbconvert_exporter": "python",
      "pygments_lexer": "ipython3",
      "version": "3.8.5"
    },
    "orig_nbformat": 4,
    "colab": {
      "name": "ShresthaLukash_3913-01_CPSMA_Module7.ipynb",
      "provenance": [],
      "include_colab_link": true
    }
  },
  "nbformat": 4,
  "nbformat_minor": 0
}