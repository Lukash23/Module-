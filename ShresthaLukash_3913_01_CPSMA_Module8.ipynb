{
  "nbformat": 4,
  "nbformat_minor": 0,
  "metadata": {
    "colab": {
      "name": "ShresthaLukash_3913-01_CPSMA_Module8.ipynb ",
      "provenance": [],
      "include_colab_link": true
    },
    "kernelspec": {
      "name": "python3",
      "display_name": "Python 3"
    },
    "language_info": {
      "name": "python"
    }
  },
  "cells": [
    {
      "cell_type": "markdown",
      "metadata": {
        "id": "view-in-github",
        "colab_type": "text"
      },
      "source": [
        "<a href=\"https://colab.research.google.com/github/Lukash23/Module-/blob/main/ShresthaLukash_3913_01_CPSMA_Module8.ipynb\" target=\"_parent\"><img src=\"https://colab.research.google.com/assets/colab-badge.svg\" alt=\"Open In Colab\"/></a>"
      ]
    },
    {
      "cell_type": "markdown",
      "source": [
        "Module 8 Project Lukash Shrestha CPSMA 3913-01 Nicholas C Jacob"
      ],
      "metadata": {
        "id": "6VHH_lO9cK8i"
      }
    },
    {
      "cell_type": "markdown",
      "source": [
        "## Typeset a small proof <br>\n",
        "**(a)** Create a linear equation y = mx+b by assigning non-zero values to m and b. Graph this function."
      ],
      "metadata": {
        "id": "_u1ezDCc2nHE"
      }
    },
    {
      "cell_type": "code",
      "source": [
        "# assign values for the independant variable, x\n",
        "lenOfList = 10\n",
        "x = [x for x in range(1,lenOfList+1)]\n",
        "\n",
        "# assign values for m and b\n",
        "m = 2\n",
        "b = 5\n",
        "\n",
        "# evaluate the values for dependant variable, y\n",
        "y = [m*y+b for y in x]\n",
        "\n",
        "# import matplotlib.pyplot for plotting\n",
        "from matplotlib import pyplot as plt\n",
        "\n",
        "# plot y against x\n",
        "plt.plot(x,y)\n",
        "\n",
        "# Add title, x Label and y label for the plot\n",
        "plt.xlabel(\"Independent variable / x\")\n",
        "plt.ylabel(\"Dependent variable / y\")\n",
        "plt.title(\"y = mx + b\")\n",
        "\n",
        "# Plot the graph\n",
        "plt.show()"
      ],
      "metadata": {
        "colab": {
          "base_uri": "https://localhost:8080/",
          "height": 295
        },
        "id": "FbfunX574Xdd",
        "outputId": "ab5f4455-ebd5-4959-8e91-040422eda51e"
      },
      "execution_count": null,
      "outputs": [
        {
          "output_type": "display_data",
          "data": {
            "image/png": "[encoded data removed]",
            "text/plain": [
              "<Figure size 432x288 with 1 Axes>"
            ]
          },
          "metadata": {
            "needs_background": "light"
          }
        }
      ]
    },
    {
      "cell_type": "markdown",
      "source": [
        "**(b)** Write a proof of the statement <br>\n",
        "&emsp;(0, b) is the y-intercept for the function y = mx + b <br><br>\n",
        "\n",
        "Statement <br>\n",
        "&emsp;(0, b) is the y-intercept for the function y = mx + b <br>\n",
        "\n",
        "Proof <br>\n",
        "&emsp;It is given that (0,b). So value of the x cordinate is 0 and the value of the y coordinate is b. <br>\n",
        "\n",
        "&emsp;When x coordinate is zero. The y coordinate will be the y intercept and it can be shown as follows. <br>\n",
        "&emsp;&emsp; y = m*x + b &emsp; when x = 0 <br>\n",
        "&emsp;&emsp; y = m*0 + b &emsp; since m*0 = 0 <br>\n",
        "&emsp;&emsp; y = 0 + b &emsp;&emsp;b + 0 = 0 <br>\n",
        "&emsp;&emsp; y = b <br>\n",
        "\n",
        "&emsp;Therefore the coordinate of the y intercept for the function will be (0,b). \n",
        "\n",
        "\n",
        "\n"
      ],
      "metadata": {
        "id": "CE_gWYYSC_dF"
      }
    }
  ]
}