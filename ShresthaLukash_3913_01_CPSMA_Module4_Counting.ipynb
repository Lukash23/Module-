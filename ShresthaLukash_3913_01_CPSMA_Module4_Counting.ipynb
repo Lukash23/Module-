{
  "nbformat": 4,
  "nbformat_minor": 0,
  "metadata": {
    "colab": {
      "name": "Untitled0.ipynb",
      "provenance": [],
      "authorship_tag": "ABX9TyPOgsmB5rDgfl166Fl9gAgt",
      "include_colab_link": true
    },
    "kernelspec": {
      "name": "python3",
      "display_name": "Python 3"
    },
    "language_info": {
      "name": "python"
    }
  },
  "cells": [
    {
      "cell_type": "markdown",
      "metadata": {
        "id": "view-in-github",
        "colab_type": "text"
      },
      "source": [
        "<a href=\"https://colab.research.google.com/github/Lukash23/Module-/blob/main/ShresthaLukash_3913_01_CPSMA_Module4_Counting.ipynb\" target=\"_parent\"><img src=\"https://colab.research.google.com/assets/colab-badge.svg\" alt=\"Open In Colab\"/></a>"
      ]
    },
    {
      "cell_type": "code",
      "execution_count": 2,
      "metadata": {
        "colab": {
          "base_uri": "https://localhost:8080/"
        },
        "id": "dSPINX9C9UH-",
        "outputId": "37f2eb84-9a9b-45cc-a495-ce0d43cc36d2"
      },
      "outputs": [
        {
          "output_type": "stream",
          "name": "stdout",
          "text": [
            "number of outcomes2\n",
            "number of events2\n",
            "1.0\n"
          ]
        }
      ],
      "source": [
        "import math\n",
        "\n",
        "#If it is considered a sequence in a particular order\n",
        "#Let np be number of possible outcomes\n",
        "\n",
        "no = int(input(\"number of outcomes\"))\n",
        "\n",
        "ne = int(input(\"number of events\"))\n",
        "\n",
        "a = math.factorial(ne)\n",
        "\n",
        "b = math.factorial(no)\n",
        "\n",
        "np = b/a\n",
        "\n",
        "print(np)"
      ]
    },
    {
      "cell_type": "code",
      "source": [
        "import math\n",
        "\n",
        "#number if outcomes of the simulation when order did not matter\n",
        "#Let np be number of possible outcomes\n",
        "\n",
        "no = int(input(\"number of outcomes\"))\n",
        "\n",
        "ne = int(input(\"number of events\"))\n",
        "\n",
        "a = math.factorial(ne)\n",
        "\n",
        "b = math.factorial(no)\n",
        "\n",
        "c = math.factorial(no-ne)\n",
        "\n",
        "np = b/(a*c)\n",
        "\n",
        "print(np)"
      ],
      "metadata": {
        "id": "s6rt5tv89lN_"
      },
      "execution_count": null,
      "outputs": []
    },
    {
      "cell_type": "code",
      "source": [
        "\n",
        ". #Obtaining the coefficient of a term in Binomial Expansion of a polynomial of the form (x+k)^n such that n≥1 and n ε N\n",
        "#Recall that to obtain the the coefficient of a particualr order in a Binomial Expansion, we need to apply the formular : n!/[(r!)(n-r)!][(k)^(n-r)]\n",
        "import math\n",
        "n = int(input(\"Enter the value if n : \"))\n",
        "r = int(input(\"Enter the value if r : \"))\n",
        "a = math.factorial(n)\n",
        "b = math.factorial(r)\n",
        "c = math.factorial(n-r)\n",
        "k = int(input(\"Enter the constant : \"))\n",
        "coefficient = ((a)/(b*c))*(k**(n-r))\n",
        "print(\"The coefficient of the\", r,\"th order of (x-3)⁹ is\", coefficient)"
      ],
      "metadata": {
        "id": "Pzt5bfyg9lZI"
      },
      "execution_count": null,
      "outputs": []
    },
    {
      "cell_type": "code",
      "source": [
        "\n",
        ". #Obtaining the coefficient of a term in Binomial Expansion of a polynomial of the form (x+k)^n such that n≥1 and n ε N\n",
        "#Recall that to obtain the the coefficient of a particualr order in a Binomial Expansion, we need to apply the formular : n!/[(r!)(n-r)!][(k)^(n-r)]\n",
        "import math\n",
        "n = int(input(\"Enter the value if n : \"))\n",
        "r = int(input(\"Enter the value if r : \"))\n",
        "a = math.factorial(n)\n",
        "b = math.factorial(r)\n",
        "c = math.factorial(n-r)\n",
        "k = int(input(\"Enter the constant : \"))\n",
        "coefficient = ((a)/(b*c))*(k**(n-r))\n",
        "print(\"The coefficient of the\", r,\"th order of (x-3)⁹ is\", coefficient)"
      ],
      "metadata": {
        "id": "IvjO-X8w9lhb"
      },
      "execution_count": null,
      "outputs": []
    },
    {
      "cell_type": "markdown",
      "source": [
        "2a. i. All the code works for positive value of n, ne and no only i.e  n,ne,no>0\n",
        "\n",
        "ii. All the code works only for interger values of n, np and no only\n",
        "\n",
        "2b. i. I didn’t have any diffuculties performing the coding\n",
        "\n",
        "2c. All the outcomes are different because they all have different conditions."
      ],
      "metadata": {
        "id": "XWpgKHpg_Fct"
      }
    }
  ]
}