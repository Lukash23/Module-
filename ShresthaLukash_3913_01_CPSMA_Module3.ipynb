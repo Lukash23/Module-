{
  "nbformat": 4,
  "nbformat_minor": 0,
  "metadata": {
    "colab": {
      "name": "ShresthaLukash_3913-01_CPSMA_Module3",
      "provenance": [],
      "collapsed_sections": [],
      "authorship_tag": "ABX9TyPeB2gKs4Gp5Abu9zJ6v3aW",
      "include_colab_link": true
    },
    "kernelspec": {
      "name": "python3",
      "display_name": "Python 3"
    },
    "language_info": {
      "name": "python"
    }
  },
  "cells": [
    {
      "cell_type": "markdown",
      "metadata": {
        "id": "view-in-github",
        "colab_type": "text"
      },
      "source": [
        "<a href=\"https://colab.research.google.com/github/Lukash23/Module-/blob/main/ShresthaLukash_3913_01_CPSMA_Module3.ipynb\" target=\"_parent\"><img src=\"https://colab.research.google.com/assets/colab-badge.svg\" alt=\"Open In Colab\"/></a>"
      ]
    },
    {
      "cell_type": "code",
      "source": [
        "import numpy as np # linear algebra\n",
        "import math\n",
        "\n",
        "# Creating a sample space of 2coin flips\n",
        "sample_space = {'HH', 'TT','HT','TH'}\n",
        "\n",
        "\n",
        "\n",
        "# E1: event outcome 2 heads {'HH'}\n",
        "# E2: event outcome 2 tails {'TT'}\n",
        "def is_heads_or_tails(outcome):  return outcome in {'HH', 'TT','HT','TH'}\n",
        "def is_2heads_or_2tails(outcome):  return outcome in {'HH', 'TT'}\n",
        "def is_neither(outcome): return not is_heads_or_tails(outcome)\n",
        "\n",
        "\n",
        "# Defining additional event conditions\n",
        "def is_2heads(outcome): return outcome == 'HH'\n",
        "def is_2tails(outcome): return outcome == 'TT'\n",
        "\n",
        "# Defining an event-detection function\n",
        "def get_matching_event(event_condition, sample_space):\n",
        "    return set([outcome for outcome in sample_space\n",
        "                if event_condition(outcome)])\n",
        "\n",
        "# Detecting events using event conditions\n",
        "event_conditions = [is_heads_or_tails, is_2heads, is_2tails,is_neither]\n",
        " \n",
        "for event_condition in event_conditions:\n",
        "    print(f\"Event Condition: {event_condition.__name__}\")\n",
        "    event = get_matching_event(event_condition, sample_space)\n",
        "    print(f'Event: {event}\\n')\n"
      ],
      "metadata": {
        "colab": {
          "base_uri": "https://localhost:8080/"
        },
        "id": "ayaruem7NfkF",
        "outputId": "0fe82b71-0200-4012-e851-d8e09aabf6d9"
      },
      "execution_count": null,
      "outputs": [
        {
          "output_type": "stream",
          "name": "stdout",
          "text": [
            "Event Condition: is_heads_or_tails\n",
            "Event: {'HT', 'TT', 'HH', 'TH'}\n",
            "\n",
            "Event Condition: is_2heads\n",
            "Event: {'HH'}\n",
            "\n",
            "Event Condition: is_2tails\n",
            "Event: {'TT'}\n",
            "\n",
            "Event Condition: is_neither\n",
            "Event: set()\n",
            "\n"
          ]
        }
      ]
    },
    {
      "cell_type": "code",
      "source": [
        "# Computing event probabilities\n",
        "def compute_probability(event_condition, generic_sample_space):\n",
        "    event = get_matching_event(event_condition, generic_sample_space)\n",
        "    return len(event) / len(generic_sample_space)\n",
        " \n",
        "for event_condition in event_conditions:\n",
        "    prob = compute_probability(event_condition, sample_space)\n",
        "    name = event_condition.__name__\n",
        "    print(f\"Probability of event arising from '{name}' is {prob}\")\n"
      ],
      "metadata": {
        "colab": {
          "base_uri": "https://localhost:8080/"
        },
        "id": "yoQFUH0xNf2l",
        "outputId": "f204be8d-9ecc-4a4f-c0c1-c7f334233277"
      },
      "execution_count": null,
      "outputs": [
        {
          "output_type": "stream",
          "name": "stdout",
          "text": [
            "Probability of event arising from 'is_heads_or_tails' is 1.0\n",
            "Probability of event arising from 'is_2heads' is 0.25\n",
            "Probability of event arising from 'is_2tails' is 0.25\n",
            "Probability of event arising from 'is_neither' is 0.0\n"
          ]
        }
      ]
    },
    {
      "cell_type": "code",
      "source": [
        "# E3 : Compound Event with two outcomes, at least 1 tail and at least 1 head\n",
        "A = {'HT','TH'}    #subset of the sample sapce\n",
        "def is_at_least_1tail(outcome): return outcome in {'HT','TH'}\n",
        "def is_at_least_1head(outcome): return outcome in {'TH','HT'}\n",
        "def is_head_or_tail(outcome): return outcome in  A\n",
        "\n",
        "# Defining additional event for the compound events conditions\n",
        "def is_atleast_1head(outcome): return outcome == 'TH','HT'\n",
        "def is_atleast_1tail(outcome): return outcome == 'HT','HT'\n",
        "\n",
        "# Defining an event-detection function\n",
        "def get_matching_event(compound_event_condition, A):\n",
        "    return set([outcome for outcome in A\n",
        "                if event_condition(outcome)])\n",
        "\n",
        "\n",
        "# Detecting events using event conditions\n",
        "event_conditions = [is_head_or_tail, is_atleast_1head, is_atleast_1tail]\n",
        " \n",
        "for event_condition in event_conditions:\n",
        "    print(f\"Subset of Sample space: {event_condition.__name__}\")\n",
        "    event = get_matching_event(event_condition, A)\n",
        "    print(f'Event: {event}\\n')\n"
      ],
      "metadata": {
        "id": "3xOBvRdTNgA_"
      },
      "execution_count": null,
      "outputs": []
    },
    {
      "cell_type": "code",
      "source": [
        "# Computing events probabilities\n",
        "# (1) Union and Intersection has are the same number of elements\n",
        "# So the same probabilities\n",
        "def compute_probability(event_condition, generic_sample_space):\n",
        "    event = get_matching_event(event_condition, generic_sample_space)\n",
        "    return len(event) / len(A)\n",
        " \n",
        "for event_condition in event_conditions:\n",
        "    prob = compute_probability(event_condition, A)\n",
        "    name = event_condition.__name__\n",
        "    print(f\"Probability of event arising from '{name}' is {prob}\")\n",
        "\n"
      ],
      "metadata": {
        "colab": {
          "base_uri": "https://localhost:8080/"
        },
        "id": "9Jcz4_IENsci",
        "outputId": "347712a2-ceb0-4ce2-be30-45fc4869d4d9"
      },
      "execution_count": null,
      "outputs": [
        {
          "output_type": "stream",
          "name": "stdout",
          "text": [
            "Probability of event arising from 'is_head_or_tail' is 1.0\n",
            "Probability of event arising from 'is_atleast_1head' is 1.0\n",
            "Probability of event arising from 'is_atleast_1tail' is 1.0\n"
          ]
        }
      ]
    },
    {
      "cell_type": "code",
      "source": [
        "# Computing complement probabilities for two events\n",
        "def compute_conditional_probabilities(event_condition, generic_sample_space):\n",
        "    event = get_matching_event(event_condition, generic_sample_space)\n",
        "    return len(event) / len(generic_sample_space)\n",
        " \n",
        "for event_condition in event_conditions:\n",
        "    prob = compute_conditional_probabilities(event_condition,A)\n",
        "    name = event_condition.__name__\n",
        "    print(f\"Complement_Probability of event arising from '{name}' is {prob}\")\n",
        "\n"
      ],
      "metadata": {
        "colab": {
          "base_uri": "https://localhost:8080/"
        },
        "id": "238DEpetNvGs",
        "outputId": "b9a35f3d-f3b6-4f4a-ddd0-5912a9e591a0"
      },
      "execution_count": null,
      "outputs": [
        {
          "output_type": "stream",
          "name": "stdout",
          "text": [
            "Complement_Probability of event arising from 'is_head_or_tail' is 1.0\n",
            "Complement_Probability of event arising from 'is_atleast_1head' is 1.0\n",
            "Complement_Probability of event arising from 'is_atleast_1tail' is 1.0\n"
          ]
        }
      ]
    },
    {
      "cell_type": "code",
      "source": [
        "# Computing conditional probabilities for two events\n",
        "def compute_complement_probabilities(event_condition, generic_sample_space):\n",
        "    event = get_matching_event(event_condition, generic_sample_space)\n",
        "    return(1  - len(event) / len(generic_sample_space) )\n",
        "for event_condition in event_conditions:\n",
        "    prob = compute_complement_probabilities(event_condition,A)\n",
        "    name = event_condition.__name__\n",
        "    print(f\"Complement_Probability of event arising from '{name}' is {prob}\")\n",
        "\n"
      ],
      "metadata": {
        "colab": {
          "base_uri": "https://localhost:8080/"
        },
        "id": "9fM5_KNvN0H6",
        "outputId": "4b304185-cc2c-4357-a52a-f8c191b79f0f"
      },
      "execution_count": null,
      "outputs": [
        {
          "output_type": "stream",
          "name": "stdout",
          "text": [
            "Complement_Probability of event arising from 'is_head_or_tail' is 0.0\n",
            "Complement_Probability of event arising from 'is_atleast_1head' is 0.0\n",
            "Complement_Probability of event arising from 'is_atleast_1tail' is 0.0\n"
          ]
        }
      ]
    },
    {
      "cell_type": "code",
      "source": [
        "import math\n",
        "import random\n",
        "# What is the probability of getting 2 heads if I flip a fair coin 10 times?\n",
        "# a = the required number of successes. In this problem, \n",
        "#a = 2       # I calculated for 2 heads out of 10 flips.\n",
        "# b = the number of trials. In this problem, \n",
        "#b = 10            # number of coin flips.\n",
        "#c = 8    #In this problem, 5–2 = 3. \n",
        "# This variable represents (n-k) in the formulas above.\n",
        "# combinations = The number of ways to choose the success’s from the trials or \n",
        "# the entire second part of the formula above.\n",
        "#percent_success = 1/4     # probability of flipping a head = 1/4\n",
        "#percent_failure =3/4     #  probability of no flipping a head (tail) = 1-1/4\n",
        "def binomial(trials, success):\n",
        "    required = total_percent = 0\n",
        "    while required <= trials:\n",
        "        a = math.factorial(required)\n",
        "        b = math.factorial(trials)\n",
        "        c = math.factorial(trials - required)\n",
        "        combinations = b / (a * c)\n",
        "        percent_success = success ** required\n",
        "        percent_failure = (1 - success) ** (trials - required)\n",
        "        answer = combinations * percent_success * percent_failure\n",
        "        total_percent += answer\n",
        "        print(\"{} of {} instances with a {} percent likelihood of    occurring.\".format(required, trials, round(answer,4)))\n",
        "        required += 1\n",
        "    print(\"The total percentage ={}\".format(round(total_percent,4)))\n",
        "        \n",
        "binomial(10, 1/4)\n"
      ],
      "metadata": {
        "colab": {
          "base_uri": "https://localhost:8080/"
        },
        "id": "_F3OohfAN3dV",
        "outputId": "decd41ab-c402-4806-be2c-ff7de037b3de"
      },
      "execution_count": null,
      "outputs": [
        {
          "output_type": "stream",
          "name": "stdout",
          "text": [
            "0 of 10 instances with a 0.0563 percent likelihood of    occurring.\n",
            "1 of 10 instances with a 0.1877 percent likelihood of    occurring.\n",
            "2 of 10 instances with a 0.2816 percent likelihood of    occurring.\n",
            "3 of 10 instances with a 0.2503 percent likelihood of    occurring.\n",
            "4 of 10 instances with a 0.146 percent likelihood of    occurring.\n",
            "5 of 10 instances with a 0.0584 percent likelihood of    occurring.\n",
            "6 of 10 instances with a 0.0162 percent likelihood of    occurring.\n",
            "7 of 10 instances with a 0.0031 percent likelihood of    occurring.\n",
            "8 of 10 instances with a 0.0004 percent likelihood of    occurring.\n",
            "9 of 10 instances with a 0.0 percent likelihood of    occurring.\n",
            "10 of 10 instances with a 0.0 percent likelihood of    occurring.\n",
            "The total percentage =1.0\n"
          ]
        }
      ]
    },
    {
      "cell_type": "markdown",
      "source": [
        "\n",
        "The simulation using binomial distribution was run correctly and the results were approximately closed to the actual values. The slight differences are because of the number of trials/iterations of the simulation and the type of distribution used.\n",
        "\n",
        "\n",
        "\n",
        "\n",
        "\n",
        "\n",
        "Part 2: AIMS AND OBJECTIVES\n",
        "\n",
        "2.1\t Describe your findings in words.\n",
        "\n",
        "A sample space of two tossed coins was used, and the probabilities were calculated. In part 2.3 of the question, based on the type of compound event used, the union and intersection have the same number of elements and probabilities. The values of probabilities were 1, which was exactly the limit point of any probabilities. \n",
        "The results from part 2.3 were the same as the conditional probabilities from Bayer’s theorem, such that the values were the same.\n",
        "2.2\tDifficulty \n",
        "The Code Verification of Bayer’s theorem was difficult and doing it with the hand would have been easier due to less involvement of complex coding.\n",
        "2.3\tSimulation Discussion\n",
        "The results from both the simulation and ideal sample space might be a little different; this is because of the number of trials/iterations of the simulation and the type of distribution used.\n",
        "3.0\tCONCLUSION\n",
        "The code ran well for the selected sample space and the values of the probabilities were calculated accordingly.\n"
      ],
      "metadata": {
        "id": "jVQH2DX9ONuW"
      }
    }
  ]
}