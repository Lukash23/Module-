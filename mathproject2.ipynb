{
  "cells": [
    {
      "cell_type": "markdown",
      "metadata": {
        "id": "view-in-github",
        "colab_type": "text"
      },
      "source": [
        "<a href=\"https://colab.research.google.com/github/Lukash23/Module-/blob/main/mathproject2.ipynb\" target=\"_parent\"><img src=\"https://colab.research.google.com/assets/colab-badge.svg\" alt=\"Open In Colab\"/></a>"
      ]
    },
    {
      "cell_type": "markdown",
      "source": [
        "Lukash Shrestha \n",
        "Nicholas Jacob\n",
        "MATH-2825-01\n",
        "10/06/2022"
      ],
      "metadata": {
        "id": "Q6WSG0kVNAy7"
      },
      "id": "Q6WSG0kVNAy7"
    },
    {
      "cell_type": "markdown",
      "source": [
        "1)a"
      ],
      "metadata": {
        "id": "BnYu5fB1o_wy"
      },
      "id": "BnYu5fB1o_wy"
    },
    {
      "cell_type": "code",
      "execution_count": null,
      "id": "553c592f-bd93-4d3f-b238-30373d466bb8",
      "metadata": {
        "colab": {
          "base_uri": "https://localhost:8080/",
          "height": 347
        },
        "id": "553c592f-bd93-4d3f-b238-30373d466bb8",
        "outputId": "1fa5c1be-6833-4c35-bc1e-f195df88c88f"
      },
      "outputs": [
        {
          "output_type": "error",
          "ename": "ModuleNotFoundError",
          "evalue": "ignored",
          "traceback": [
            "\u001b[0;31m---------------------------------------------------------------------------\u001b[0m",
            "\u001b[0;31mModuleNotFoundError\u001b[0m                       Traceback (most recent call last)",
            "\u001b[0;32m<ipython-input-1-85b7c69e84bc>\u001b[0m in \u001b[0;36m<module>\u001b[0;34m\u001b[0m\n\u001b[1;32m      3\u001b[0m \u001b[0;32mimport\u001b[0m \u001b[0mipywidgets\u001b[0m \u001b[0;32mas\u001b[0m \u001b[0mwidgets\u001b[0m\u001b[0;34m\u001b[0m\u001b[0;34m\u001b[0m\u001b[0m\n\u001b[1;32m      4\u001b[0m \u001b[0mget_ipython\u001b[0m\u001b[0;34m(\u001b[0m\u001b[0;34m)\u001b[0m\u001b[0;34m.\u001b[0m\u001b[0mrun_line_magic\u001b[0m\u001b[0;34m(\u001b[0m\u001b[0;34m'matplotlib'\u001b[0m\u001b[0;34m,\u001b[0m \u001b[0;34m'inline'\u001b[0m\u001b[0;34m)\u001b[0m\u001b[0;34m\u001b[0m\u001b[0;34m\u001b[0m\u001b[0m\n\u001b[0;32m----> 5\u001b[0;31m \u001b[0;32mimport\u001b[0m \u001b[0mImpropIntTools\u001b[0m \u001b[0;32mas\u001b[0m \u001b[0mIT\u001b[0m\u001b[0;34m\u001b[0m\u001b[0;34m\u001b[0m\u001b[0m\n\u001b[0m",
            "\u001b[0;31mModuleNotFoundError\u001b[0m: No module named 'ImpropIntTools'",
            "",
            "\u001b[0;31m---------------------------------------------------------------------------\u001b[0;32m\nNOTE: If your import is failing due to a missing package, you can\nmanually install dependencies using either !pip or !apt.\n\nTo view examples of installing some common dependencies, click the\n\"Open Examples\" button below.\n\u001b[0;31m---------------------------------------------------------------------------\u001b[0m\n"
          ],
          "errorDetails": {
            "actions": [
              {
                "action": "open_url",
                "actionText": "Open Examples",
                "url": "/notebooks/snippets/importing_libraries.ipynb"
              }
            ]
          }
        }
      ],
      "source": [
        "from ipywidgets import interact, Text, IntSlider, FloatSlider\n",
        "import matplotlib.pyplot as plt\n",
        "import ipywidgets as widgets\n",
        "%matplotlib inline\n",
        "import ImpropIntTools as IT"
      ]
    },
    {
      "cell_type": "code",
      "execution_count": null,
      "id": "68063da1-0f23-432e-af98-35568afc1609",
      "metadata": {
        "id": "68063da1-0f23-432e-af98-35568afc1609"
      },
      "outputs": [],
      "source": [
        "f_box = Text(value=\"tan(12**x)\", description=r'$f(x)=$')\n",
        "b_slider = FloatSlider(min=1, max=100, step=1, value=1)\n",
        "interact(IT.plotINFInterval, f=f_box, a=\"0.0.\", b=b_slider);"
      ]
    },
    {
      "cell_type": "markdown",
      "source": [
        "1)b\n",
        "  The Limit does not exist"
      ],
      "metadata": {
        "id": "bazTywPYpBql"
      },
      "id": "bazTywPYpBql"
    },
    {
      "cell_type": "markdown",
      "source": [
        "1) c"
      ],
      "metadata": {
        "id": "uwWwUKDapZc9"
      },
      "id": "uwWwUKDapZc9"
    },
    {
      "cell_type": "code",
      "execution_count": null,
      "metadata": {
        "colab": {
          "base_uri": "https://localhost:8080/",
          "height": 347
        },
        "id": "e92d6dde-8e68-4401-bc2a-319a6d78cf53",
        "outputId": "a238f91c-c421-4cc3-f206-9a54cd3e6d40"
      },
      "outputs": [
        {
          "output_type": "error",
          "ename": "ModuleNotFoundError",
          "evalue": "ignored",
          "traceback": [
            "\u001b[0;31m---------------------------------------------------------------------------\u001b[0m",
            "\u001b[0;31mModuleNotFoundError\u001b[0m                       Traceback (most recent call last)",
            "\u001b[0;32m<ipython-input-4-85b7c69e84bc>\u001b[0m in \u001b[0;36m<module>\u001b[0;34m\u001b[0m\n\u001b[1;32m      3\u001b[0m \u001b[0;32mimport\u001b[0m \u001b[0mipywidgets\u001b[0m \u001b[0;32mas\u001b[0m \u001b[0mwidgets\u001b[0m\u001b[0;34m\u001b[0m\u001b[0;34m\u001b[0m\u001b[0m\n\u001b[1;32m      4\u001b[0m \u001b[0mget_ipython\u001b[0m\u001b[0;34m(\u001b[0m\u001b[0;34m)\u001b[0m\u001b[0;34m.\u001b[0m\u001b[0mrun_line_magic\u001b[0m\u001b[0;34m(\u001b[0m\u001b[0;34m'matplotlib'\u001b[0m\u001b[0;34m,\u001b[0m \u001b[0;34m'inline'\u001b[0m\u001b[0;34m)\u001b[0m\u001b[0;34m\u001b[0m\u001b[0;34m\u001b[0m\u001b[0m\n\u001b[0;32m----> 5\u001b[0;31m \u001b[0;32mimport\u001b[0m \u001b[0mImpropIntTools\u001b[0m \u001b[0;32mas\u001b[0m \u001b[0mIT\u001b[0m\u001b[0;34m\u001b[0m\u001b[0;34m\u001b[0m\u001b[0m\n\u001b[0m",
            "\u001b[0;31mModuleNotFoundError\u001b[0m: No module named 'ImpropIntTools'",
            "",
            "\u001b[0;31m---------------------------------------------------------------------------\u001b[0;32m\nNOTE: If your import is failing due to a missing package, you can\nmanually install dependencies using either !pip or !apt.\n\nTo view examples of installing some common dependencies, click the\n\"Open Examples\" button below.\n\u001b[0;31m---------------------------------------------------------------------------\u001b[0m\n"
          ],
          "errorDetails": {
            "actions": [
              {
                "action": "open_url",
                "actionText": "Open Examples",
                "url": "/notebooks/snippets/importing_libraries.ipynb"
              }
            ]
          }
        }
      ],
      "source": [
        "from ipywidgets import interact, Text, IntSlider, FloatSlider\n",
        "import matplotlib.pyplot as plt\n",
        "import ipywidgets as widgets\n",
        "%matplotlib inline\n",
        "import ImpropIntTools as IT"
      ],
      "id": "e92d6dde-8e68-4401-bc2a-319a6d78cf53"
    },
    {
      "cell_type": "code",
      "execution_count": null,
      "metadata": {
        "colab": {
          "base_uri": "https://localhost:8080/",
          "height": 222
        },
        "id": "67514ad6-fe6e-416e-800c-872f2e6b6b5f",
        "outputId": "e8fa7c82-f41f-4a61-f76b-77cd42066b41"
      },
      "outputs": [
        {
          "output_type": "error",
          "ename": "NameError",
          "evalue": "ignored",
          "traceback": [
            "\u001b[0;31m---------------------------------------------------------------------------\u001b[0m",
            "\u001b[0;31mNameError\u001b[0m                                 Traceback (most recent call last)",
            "\u001b[0;32m<ipython-input-5-7cede56fb689>\u001b[0m in \u001b[0;36m<module>\u001b[0;34m\u001b[0m\n\u001b[1;32m      1\u001b[0m \u001b[0mg_box\u001b[0m \u001b[0;34m=\u001b[0m \u001b[0mText\u001b[0m\u001b[0;34m(\u001b[0m\u001b[0mvalue\u001b[0m\u001b[0;34m=\u001b[0m\u001b[0;34m\"1./x**0.5\"\u001b[0m\u001b[0;34m,\u001b[0m \u001b[0mdescription\u001b[0m\u001b[0;34m=\u001b[0m\u001b[0;34mr'$g(x)=$'\u001b[0m\u001b[0;34m)\u001b[0m\u001b[0;34m\u001b[0m\u001b[0;34m\u001b[0m\u001b[0m\n\u001b[1;32m      2\u001b[0m \u001b[0mm_slider\u001b[0m \u001b[0;34m=\u001b[0m \u001b[0mwidgets\u001b[0m\u001b[0;34m.\u001b[0m\u001b[0mFloatSlider\u001b[0m\u001b[0;34m(\u001b[0m\u001b[0mmin\u001b[0m\u001b[0;34m=\u001b[0m\u001b[0;34m-\u001b[0m\u001b[0;36m6.\u001b[0m\u001b[0;34m,\u001b[0m \u001b[0mmax\u001b[0m\u001b[0;34m=\u001b[0m\u001b[0;36m0.\u001b[0m\u001b[0;34m,\u001b[0m \u001b[0mstep\u001b[0m\u001b[0;34m=\u001b[0m\u001b[0;36m0.1\u001b[0m\u001b[0;34m,\u001b[0m \u001b[0mvalue\u001b[0m\u001b[0;34m=\u001b[0m\u001b[0;36m0.\u001b[0m\u001b[0;34m,\u001b[0m \u001b[0mdescription\u001b[0m\u001b[0;34m=\u001b[0m\u001b[0;34mr'$\\log_{10} a$'\u001b[0m\u001b[0;34m)\u001b[0m\u001b[0;34m\u001b[0m\u001b[0;34m\u001b[0m\u001b[0m\n\u001b[0;32m----> 3\u001b[0;31m \u001b[0minteract\u001b[0m\u001b[0;34m(\u001b[0m\u001b[0mIT\u001b[0m\u001b[0;34m.\u001b[0m\u001b[0mplotINFIntegrand\u001b[0m\u001b[0;34m,\u001b[0m\u001b[0mg\u001b[0m\u001b[0;34m=\u001b[0m\u001b[0mg_box\u001b[0m\u001b[0;34m,\u001b[0m\u001b[0mm\u001b[0m\u001b[0;34m=\u001b[0m\u001b[0mm_slider\u001b[0m\u001b[0;34m,\u001b[0m\u001b[0mb\u001b[0m\u001b[0;34m=\u001b[0m\u001b[0;34m\"1.\"\u001b[0m\u001b[0;34m)\u001b[0m\u001b[0;34m;\u001b[0m\u001b[0;34m\u001b[0m\u001b[0;34m\u001b[0m\u001b[0m\n\u001b[0m",
            "\u001b[0;31mNameError\u001b[0m: name 'IT' is not defined"
          ]
        }
      ],
      "source": [
        "g_box = Text(value=\"1./x**0.5\", description=r'$g(x)=$')\n",
        "m_slider = widgets.FloatSlider(min=-6., max=0., step=0.1, value=0., description=r'$\\log_{10} a$')\n",
        "interact(IT.plotINFIntegrand,g=g_box,m=m_slider,b=\"1.\");"
      ],
      "id": "67514ad6-fe6e-416e-800c-872f2e6b6b5f"
    },
    {
      "cell_type": "markdown",
      "source": [
        "1) d\n",
        "  If limx→0 f(x) = ∞ and limx→0 g(x) = ∞, then limx→0 [f(x) - g(x)] = 0 "
      ],
      "metadata": {
        "id": "rNyO2vDYprCp"
      },
      "id": "rNyO2vDYprCp"
    },
    {
      "cell_type": "markdown",
      "source": [
        "2) a"
      ],
      "metadata": {
        "id": "bHKpR0dIqk5b"
      },
      "id": "bHKpR0dIqk5b"
    },
    {
      "cell_type": "code",
      "execution_count": null,
      "metadata": {
        "id": "d047ddb4-5928-478f-9544-d2a822781aaa"
      },
      "outputs": [],
      "source": [
        "%matplotlib inline\n",
        "\n",
        "# Define function e\n",
        "def e(x):\n",
        "    if x == 0:\n",
        "        return 5\n",
        "    else:\n",
        "        return 1 + x**2\n",
        "\n",
        "from matplotlib import pyplot as plt\n",
        "\n",
        "x= [-1, -0.5, -0.2, -0.1, -0.01, 0.01, 0.1, 0.2, 0.5, 1]\n",
        "y =[e(i) for i in x]\n",
        "\n",
        "# Set up the graph\n",
        "plt.xlabel('x')\n",
        "plt.ylabel('e(x)')\n",
        "plt.grid()\n",
        "\n",
        "# Plot x against e(x)\n",
        "plt.plot(x, y, color='purple')\n",
        "# (we're cheating slightly - we'll manually plot the discontinous point...)\n",
        "plt.scatter(0, e(0), color='purple')\n",
        "# (... and overplot the gap)\n",
        "plt.plot(0, 1, color='purple', marker='o', markerfacecolor='w', markersize=10)\n",
        "plt.show()"
      ],
      "id": "d047ddb4-5928-478f-9544-d2a822781aaa"
    },
    {
      "cell_type": "markdown",
      "source": [
        "2) b \n",
        "The Value that corresponds is 0.01\n",
        "We say that limx→af(x) = L lim x → a f ( x ) = L if for every ϵ>0 there is a δ>0 so that whenever 0<|x−a|<δ, 0 < | x − a | < δ , |f(x)−L|<ϵ.\n",
        "If |(5x−7)−3|<5(0.02)=0.1\n",
        "For ε=0.05, make δ=0.055=0.01.\n"
      ],
      "metadata": {
        "id": "jXU4AMCFqsxE"
      },
      "id": "jXU4AMCFqsxE"
    },
    {
      "cell_type": "markdown",
      "source": [
        "3)"
      ],
      "metadata": {
        "id": "s3VdJwt8renK"
      },
      "id": "s3VdJwt8renK"
    },
    {
      "cell_type": "code",
      "source": [],
      "metadata": {
        "id": "x9TTyW6vrhk4"
      },
      "id": "x9TTyW6vrhk4",
      "execution_count": null,
      "outputs": []
    },
    {
      "cell_type": "code",
      "execution_count": null,
      "metadata": {
        "id": "fe573ff8-6a3b-47fc-bd5e-c76c8f547825"
      },
      "outputs": [],
      "source": [
        "import numpy as np\n",
        "def eq1(x):\n",
        "    return (np.log(5*x-2))\n",
        "    raise NotImplementedError()"
      ],
      "id": "fe573ff8-6a3b-47fc-bd5e-c76c8f547825"
    },
    {
      "cell_type": "code",
      "execution_count": null,
      "metadata": {
        "id": "19553cd4-1765-44aa-9301-1d2ee60ea177"
      },
      "outputs": [],
      "source": [
        "assert np.all(np.isclose(eq1(np.array(range(1, 10))), np.array([1.09861229, 2.07944154, 2.56494936, 2.89037176, 3.13549422,\n",
        "       3.33220451, 3.49650756, 3.63758616, 3.76120012])))"
      ],
      "id": "19553cd4-1765-44aa-9301-1d2ee60ea177"
    },
    {
      "cell_type": "code",
      "execution_count": null,
      "metadata": {
        "id": "a42ac9c6-cd9c-4169-b627-25c1de18c098"
      },
      "outputs": [],
      "source": [
        "def fixedPoint(func, a, b, tolerance):\n",
        "    # YOUR CODE HERE\n",
        "    g_x = func\n",
        "    xn_1 = a\n",
        "    xn = g_x(xn_1)\n",
        "    while abs(xn - xn_1) > tolerance:\n",
        "      xn_1 = xn\n",
        "      xn = g_x(xn_1)\n",
        "    return xn\n",
        "    raise NotImplementedError()"
      ],
      "id": "a42ac9c6-cd9c-4169-b627-25c1de18c098"
    },
    {
      "cell_type": "code",
      "execution_count": null,
      "metadata": {
        "id": "bb0ab50c-8353-409d-8c06-cfcc76592140"
      },
      "outputs": [],
      "source": [
        "assert np.isclose(fixedPoint(eq1, 2, 3, 1e-5), 2.1937309384071364)"
      ],
      "id": "bb0ab50c-8353-409d-8c06-cfcc76592140"
    },
    {
      "cell_type": "code",
      "execution_count": null,
      "metadata": {
        "id": "3e5e77b7-2d1d-4ccc-b30f-916fb38ae162"
      },
      "outputs": [],
      "source": [
        "import numpy as np\n",
        "import matplotlib.pyplot as plt\n",
        "\n",
        "def plotFunctions():\n",
        "    \n",
        "    plt.figure(figsize=(6.4*3,4.8*3),facecolor=[0.91,0.91,0.91])\n",
        "    x= np.linspace(0,3,101)\n",
        "    plt.xticks(np.arange(min(x), max(x), 0.08))\n",
        "    y1 =x \n",
        "    y2 =(np.exp(x)+2) /5\n",
        "    plt.plot(x,y1)\n",
        "    plt.plot(x,y2)\n",
        "    plt.ylabel('Y Values')\n",
        "    return  plt.show()\n",
        "    raise NotImplementedError()"
      ],
      "id": "3e5e77b7-2d1d-4ccc-b30f-916fb38ae162"
    },
    {
      "cell_type": "code",
      "execution_count": null,
      "metadata": {
        "id": "8bb0f2c4-dc44-4745-a52f-5e2f0987724e",
        "outputId": "0d4fb730-965d-4965-9023-596a0ed0dc56"
      },
      "outputs": [
        {
          "data": {
            "image/png": "[encoded data removed]",
            "text/plain": [
              "<Figure size 1382.4x1036.8 with 1 Axes>"
            ]
          },
          "metadata": {},
          "output_type": "display_data"
        }
      ],
      "source": [
        "plotFunctions()"
      ],
      "id": "8bb0f2c4-dc44-4745-a52f-5e2f0987724e"
    }
  ],
  "metadata": {
    "kernelspec": {
      "display_name": "Python 3 (ipykernel)",
      "language": "python",
      "name": "python3"
    },
    "language_info": {
      "codemirror_mode": {
        "name": "ipython",
        "version": 3
      },
      "file_extension": ".py",
      "mimetype": "text/x-python",
      "name": "python",
      "nbconvert_exporter": "python",
      "pygments_lexer": "ipython3",
      "version": "3.9.12"
    },
    "colab": {
      "provenance": [],
      "collapsed_sections": [],
      "include_colab_link": true
    }
  },
  "nbformat": 4,
  "nbformat_minor": 5
}