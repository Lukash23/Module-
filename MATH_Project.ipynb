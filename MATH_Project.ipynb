{
  "cells": [
    {
      "cell_type": "markdown",
      "metadata": {
        "id": "view-in-github",
        "colab_type": "text"
      },
      "source": [
        "<a href=\"https://colab.research.google.com/github/Lukash23/Module-/blob/main/MATH_Project.ipynb\" target=\"_parent\"><img src=\"https://colab.research.google.com/assets/colab-badge.svg\" alt=\"Open In Colab\"/></a>"
      ]
    },
    {
      "cell_type": "markdown",
      "source": [
        "Lukash Shrestha\n",
        "Nicholas Jacob\n",
        "MATH 2825-01\n",
        "09/08/2022"
      ],
      "metadata": {
        "id": "tIZOeG2IfRY0"
      },
      "id": "tIZOeG2IfRY0"
    },
    {
      "cell_type": "markdown",
      "id": "8f0084ca",
      "metadata": {
        "id": "8f0084ca"
      },
      "source": [
        "## Q1. a)."
      ]
    },
    {
      "cell_type": "code",
      "execution_count": null,
      "id": "1b0fd233",
      "metadata": {
        "id": "1b0fd233",
        "outputId": "96d7651d-1c33-47b6-b017-fc0da8b8130b"
      },
      "outputs": [
        {
          "data": {
            "text/plain": [
              "1.0"
            ]
          },
          "execution_count": 1,
          "metadata": {},
          "output_type": "execute_result"
        }
      ],
      "source": [
        "import math\n",
        "import matplotlib.pyplot as plt\n",
        "\n",
        "\n",
        "def f(alpha, x):\n",
        "    return math.sqrt((alpha * x) + 1)\n",
        "\n",
        "f(5,0)"
      ]
    },
    {
      "cell_type": "markdown",
      "id": "a8fd2410",
      "metadata": {
        "id": "a8fd2410"
      },
      "source": [
        "## b). \n",
        "The lower limit b of the dormain of the equation is b=0 given alpha is 5. This is because the function becomes undefined for values of x smaller values than 0."
      ]
    },
    {
      "cell_type": "markdown",
      "id": "90d01edf",
      "metadata": {
        "id": "90d01edf"
      },
      "source": [
        "## c)."
      ]
    },
    {
      "cell_type": "code",
      "execution_count": null,
      "id": "e3ec69d4",
      "metadata": {
        "id": "e3ec69d4",
        "outputId": "a05228fa-df26-402b-aa69-3f7e4fbdc6e2"
      },
      "outputs": [
        {
          "data": {
            "image/png": "[encoded data removed]",
            "text/plain": [
              "<Figure size 432x288 with 1 Axes>"
            ]
          },
          "metadata": {
            "needs_background": "light"
          },
          "output_type": "display_data"
        }
      ],
      "source": [
        "x = [x for x in range(0, 5)]\n",
        "y = []\n",
        "alpha = 5\n",
        "for num in x:\n",
        "    j = math.sqrt((alpha * num) + 1)\n",
        "    y.append(j)\n",
        "plt.plot(x, y)\n",
        "plt.show()"
      ]
    },
    {
      "cell_type": "markdown",
      "id": "2bd58d65",
      "metadata": {
        "id": "2bd58d65"
      },
      "source": [
        "## Q2. a)."
      ]
    },
    {
      "cell_type": "code",
      "execution_count": null,
      "id": "1502bf42",
      "metadata": {
        "id": "1502bf42",
        "outputId": "cf133a62-88cd-4dcd-97a6-9493ccc50d95"
      },
      "outputs": [
        {
          "data": {
            "image/png": "[encoded data removed]",
            "text/plain": [
              "<Figure size 432x288 with 1 Axes>"
            ]
          },
          "metadata": {
            "needs_background": "light"
          },
          "output_type": "display_data"
        }
      ],
      "source": [
        "x = [x for x in range(6,10)]\n",
        "y1 = []\n",
        "y2 = []\n",
        "y3 = []\n",
        "y4 = []\n",
        "for num in x:\n",
        "    o = 1/(alpha - num)\n",
        "    y1.append(o)\n",
        "    p = (1/(alpha - num)) * (1/(alpha - num))\n",
        "    y2.append(p)\n",
        "    q = (1/(alpha - num)) * (1/(alpha - num)) * (1/(alpha - num))\n",
        "    y3.append(q)\n",
        "    r = (1/(alpha - num)) * (1/(alpha - num)) * (1/(alpha - num)) * (1/(alpha - num))\n",
        "    y4.append(r)\n",
        "   \n",
        "plt.plot(x, y1)\n",
        "plt.plot(x, y2)\n",
        "plt.plot(x, y3)\n",
        "plt.plot(x, y4)\n",
        "plt.show()"
      ]
    },
    {
      "cell_type": "markdown",
      "id": "5125c0ce",
      "metadata": {
        "id": "5125c0ce"
      },
      "source": [
        "## b)."
      ]
    },
    {
      "cell_type": "markdown",
      "id": "1f1f53ca",
      "metadata": {
        "id": "1f1f53ca"
      },
      "source": [
        "It is the product of f0 n+1 times. Thus if n is 3 then f3= f0*f0*f0*f0"
      ]
    },
    {
      "cell_type": "markdown",
      "id": "9c9d6f24",
      "metadata": {
        "id": "9c9d6f24"
      },
      "source": [
        "## Q3. a)."
      ]
    },
    {
      "cell_type": "code",
      "execution_count": null,
      "id": "82ffe38c",
      "metadata": {
        "id": "82ffe38c"
      },
      "outputs": [],
      "source": [
        "def slope(j, k, l, m):\n",
        "    return (m -k)/(l-j)\n",
        "\n",
        "alpha = 5\n"
      ]
    },
    {
      "cell_type": "markdown",
      "id": "e1adf93e",
      "metadata": {
        "id": "e1adf93e"
      },
      "source": [
        "### P(1,0) Q1(2, y1)"
      ]
    },
    {
      "cell_type": "code",
      "execution_count": null,
      "id": "26ccba93",
      "metadata": {
        "id": "26ccba93",
        "outputId": "90e89ad9-b396-46e4-e740-e67a21bbea14"
      },
      "outputs": [
        {
          "data": {
            "text/plain": [
              "6.123233995736766e-16"
            ]
          },
          "execution_count": 6,
          "metadata": {},
          "output_type": "execute_result"
        }
      ],
      "source": [
        "x1 = 2\n",
        "y1 = math.sin((2*alpha*math.pi)/x1)\n",
        "\n",
        "slope(1, 0, x1, y1)"
      ]
    },
    {
      "cell_type": "markdown",
      "id": "a3fc12cb",
      "metadata": {
        "id": "a3fc12cb"
      },
      "source": [
        "### P(1,0) Q2(1.5, y2)"
      ]
    },
    {
      "cell_type": "code",
      "execution_count": null,
      "id": "876d503a",
      "metadata": {
        "id": "876d503a",
        "outputId": "31922516-8dc4-40dd-c3dc-4a6a928692cf"
      },
      "outputs": [
        {
          "data": {
            "text/plain": [
              "1.732050807568877"
            ]
          },
          "execution_count": 7,
          "metadata": {},
          "output_type": "execute_result"
        }
      ],
      "source": [
        "x2 = 1.5\n",
        "y2 = math.sin((2*alpha*math.pi)/x2)\n",
        "\n",
        "slope(1, 0, x2, y2)"
      ]
    },
    {
      "cell_type": "markdown",
      "id": "7e90a87b",
      "metadata": {
        "id": "7e90a87b"
      },
      "source": [
        "### P(1,0) Q3(1.1, y3)"
      ]
    },
    {
      "cell_type": "code",
      "execution_count": null,
      "id": "91043df7",
      "metadata": {
        "id": "91043df7",
        "outputId": "b195333a-0cf8-434c-a5b8-ef52b0262e68"
      },
      "outputs": [
        {
          "data": {
            "text/plain": [
              "-2.8173255684142653"
            ]
          },
          "execution_count": 8,
          "metadata": {},
          "output_type": "execute_result"
        }
      ],
      "source": [
        "x3 = 1.1\n",
        "y3 = math.sin((2*alpha*math.pi)/x3)\n",
        "\n",
        "slope(1, 0, x3, y3)"
      ]
    },
    {
      "cell_type": "markdown",
      "id": "545a4640",
      "metadata": {
        "id": "545a4640"
      },
      "source": [
        "### P(1,0) Q4(1.01, y4)"
      ]
    },
    {
      "cell_type": "code",
      "execution_count": null,
      "id": "e21b932f",
      "metadata": {
        "id": "e21b932f",
        "outputId": "4bf630cb-58d2-44e8-f6c6-b53d587c11da"
      },
      "outputs": [
        {
          "data": {
            "text/plain": [
              "-30.605725458788967"
            ]
          },
          "execution_count": 9,
          "metadata": {},
          "output_type": "execute_result"
        }
      ],
      "source": [
        "x4 = 1.01\n",
        "y4 = math.sin((2*alpha*math.pi)/x4)\n",
        "\n",
        "slope(1, 0, x4, y4)"
      ]
    },
    {
      "cell_type": "markdown",
      "id": "a9204c8b",
      "metadata": {
        "id": "a9204c8b"
      },
      "source": [
        "### P(1,0) Q5(1.001, y5)"
      ]
    },
    {
      "cell_type": "code",
      "execution_count": null,
      "id": "983f8172",
      "metadata": {
        "id": "983f8172",
        "outputId": "cc0fc90d-d110-4533-a4c0-c97d7052f762"
      },
      "outputs": [
        {
          "data": {
            "text/plain": [
              "-31.379390007048876"
            ]
          },
          "execution_count": 10,
          "metadata": {},
          "output_type": "execute_result"
        }
      ],
      "source": [
        "x5 = 1.001\n",
        "y5 = math.sin((2*alpha*math.pi)/x5)\n",
        "\n",
        "slope(1, 0, x5, y5)"
      ]
    },
    {
      "cell_type": "markdown",
      "id": "e4d332e6",
      "metadata": {
        "id": "e4d332e6"
      },
      "source": [
        "No they do not approach a limit since each of the secant lines has a significantly different gradient."
      ]
    },
    {
      "cell_type": "markdown",
      "id": "479e0ba5",
      "metadata": {
        "id": "479e0ba5"
      },
      "source": [
        "## b). "
      ]
    },
    {
      "cell_type": "code",
      "execution_count": null,
      "id": "89136ea3",
      "metadata": {
        "id": "89136ea3",
        "outputId": "8af2a450-99c3-4ac9-b5ab-69db2977e98b"
      },
      "outputs": [
        {
          "data": {
            "image/png": "[encoded data removed]",
            "text/plain": [
              "<Figure size 432x288 with 1 Axes>"
            ]
          },
          "metadata": {
            "needs_background": "light"
          },
          "output_type": "display_data"
        }
      ],
      "source": [
        "x = [x for x in range(1, 10)]\n",
        "y = []\n",
        "for num in x:\n",
        "    j = math.sin((2*alpha*math.pi)/num)\n",
        "    y.append(j)\n",
        "plt.plot(x, y)\n",
        "plt.plot([1,x1], [0,y1])\n",
        "plt.plot([1,x2], [0,y2])\n",
        "plt.plot([1,x3], [0,y3])\n",
        "plt.plot([1,x4], [0,y4])\n",
        "plt.plot([1,x5], [0,y5])\n",
        "plt.show()\n",
        "\n"
      ]
    },
    {
      "cell_type": "markdown",
      "id": "b89a713f",
      "metadata": {
        "id": "b89a713f"
      },
      "source": [
        "The tangent line at point p of the curve has a significantly different gradient compaired to the points in the open interval (1,2).\n",
        "Therefore these points cannot be used to estimate the gradient of point P. "
      ]
    },
    {
      "cell_type": "markdown",
      "id": "f8e9f637",
      "metadata": {
        "id": "f8e9f637"
      },
      "source": [
        "## c)."
      ]
    },
    {
      "cell_type": "code",
      "execution_count": null,
      "id": "326a9cb6",
      "metadata": {
        "id": "326a9cb6",
        "outputId": "45d8fc3c-a565-456b-a4c6-fa92e5cd1a0b"
      },
      "outputs": [
        {
          "data": {
            "text/plain": [
              "6.123233995736766e-16"
            ]
          },
          "execution_count": 12,
          "metadata": {},
          "output_type": "execute_result"
        }
      ],
      "source": [
        "x1 = 2\n",
        "y1 = math.sin((2*alpha*math.pi)/x1)\n",
        "\n",
        "slope(1, 0, x1, y1)"
      ]
    },
    {
      "cell_type": "code",
      "execution_count": null,
      "id": "d9ec3344",
      "metadata": {
        "id": "d9ec3344"
      },
      "outputs": [],
      "source": []
    }
  ],
  "metadata": {
    "kernelspec": {
      "display_name": "Python 3",
      "language": "python",
      "name": "python3"
    },
    "language_info": {
      "codemirror_mode": {
        "name": "ipython",
        "version": 3
      },
      "file_extension": ".py",
      "mimetype": "text/x-python",
      "name": "python",
      "nbconvert_exporter": "python",
      "pygments_lexer": "ipython3",
      "version": "3.8.8"
    },
    "colab": {
      "provenance": [],
      "include_colab_link": true
    }
  },
  "nbformat": 4,
  "nbformat_minor": 5
}