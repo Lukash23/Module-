{
  "nbformat": 4,
  "nbformat_minor": 0,
  "metadata": {
    "colab": {
      "name": "ShresthaLukash_3913-01_CPSMA_Module6",
      "provenance": [],
      "authorship_tag": "ABX9TyNSpTCCWE7cwmYvebnUaXxb",
      "include_colab_link": true
    },
    "kernelspec": {
      "name": "python3",
      "display_name": "Python 3"
    },
    "language_info": {
      "name": "python"
    }
  },
  "cells": [
    {
      "cell_type": "markdown",
      "metadata": {
        "id": "view-in-github",
        "colab_type": "text"
      },
      "source": [
        "<a href=\"https://colab.research.google.com/github/Lukash23/Module-/blob/main/ShresthaLukash_3913_01_CPSMA_Module6.ipynb\" target=\"_parent\"><img src=\"https://colab.research.google.com/assets/colab-badge.svg\" alt=\"Open In Colab\"/></a>"
      ]
    },
    {
      "cell_type": "markdown",
      "source": [
        "Module 5 Project \n",
        "Lukash Shrestha \n",
        "Nicholas C Jacob\n",
        "CPSMA 3913-01 \n",
        "20th February 2022"
      ],
      "metadata": {
        "id": "44V-SBxgOYBH"
      }
    },
    {
      "cell_type": "markdown",
      "source": [
        "Part a - Convert the number 240367 into base ten."
      ],
      "metadata": {
        "id": "ag3DeV_MO24K"
      }
    },
    {
      "cell_type": "code",
      "source": [
        "# Let N be the number in base 7\n",
        "n=240367"
      ],
      "metadata": {
        "id": "apNz364NO3n0"
      },
      "execution_count": 2,
      "outputs": []
    },
    {
      "cell_type": "code",
      "source": [
        "# Let D be the number in base 10. Then D = unit place * 7^0 + ten's place * 7^1 + .... and so on...\n",
        "# We now try to implement the above concept in Code\n",
        "i = 0 # counter for powers of 7\n",
        "d = 0 # varriable to store the decimal number\n",
        "while n>0:\n",
        "  digit = n%10 #to get digit starting from unit's place \n",
        "  n=n//10\n",
        "  d = d+ (7**i)*digit\n",
        "  i=i+1\n",
        "print(\"The converted Decimal Number is \"+str(d))"
      ],
      "metadata": {
        "colab": {
          "base_uri": "https://localhost:8080/"
        },
        "id": "0EOtW4MUPAw1",
        "outputId": "edd7eb58-4b1a-4864-9e81-da848ba96f3b"
      },
      "execution_count": 10,
      "outputs": [
        {
          "output_type": "stream",
          "name": "stdout",
          "text": [
            "The converted Decimal Number is 0\n"
          ]
        }
      ]
    },
    {
      "cell_type": "markdown",
      "source": [
        "Part b - Convert the hexadecimal number 72e3 or 0x72e3 into base ten."
      ],
      "metadata": {
        "id": "B_lgSqYlPGrv"
      }
    },
    {
      "cell_type": "code",
      "source": [
        "# Let N be the number in Hexadecimal\n",
        "n=\"72e3\""
      ],
      "metadata": {
        "id": "8VyIaKOIPMYZ"
      },
      "execution_count": null,
      "outputs": []
    },
    {
      "cell_type": "code",
      "source": [
        "# creating function to identify numeric value of the digits of Hexadecimal Number. \n",
        "def Digit_identifier(d):\n",
        "  if d.isdigit():\n",
        "    return int(d)\n",
        "  if d.isalpha():\n",
        "    if d=='a':\n",
        "      return 10\n",
        "    elif d=='b':\n",
        "      return 11\n",
        "    elif d=='c':\n",
        "      return 12\n",
        "    elif d=='d':\n",
        "      return 13\n",
        "    elif d=='e':\n",
        "      return 14\n",
        "    else :\n",
        "      return 15\n"
      ],
      "metadata": {
        "id": "FxuXM35mPPWY"
      },
      "execution_count": 6,
      "outputs": []
    },
    {
      "cell_type": "code",
      "source": [
        "# Let Deci be the decimal number corresponding to the above hexa decimal number\n",
        "Deci = 0 #Varriable to store the Decimal Number\n",
        "# We run a loop to retrive all the digits starting from units place and then convert it from hexadecimal to decimal\n",
        "# If Deci be the number in base 10. Then Deci = unit place * 16^0 + ten's place * 16^1 + .... and so on...\n",
        "for i in range(len(n)): \n",
        "  digit = Digit_identifier(n[len(n)-i-1]) # Here we are obtaining the digits starting from unit's place\n",
        "  Deci = Deci + digit*16**i\n",
        "\n",
        "print(\"The corresponding decimal number is  \"+ str(Deci))"
      ],
      "metadata": {
        "id": "1MyH6_8ZPa25"
      },
      "execution_count": null,
      "outputs": []
    },
    {
      "cell_type": "markdown",
      "source": [
        "Part c -  Convert 3735928559 into hexadecimal."
      ],
      "metadata": {
        "id": "tXvJK6fzPnEa"
      }
    },
    {
      "cell_type": "code",
      "source": [
        "# Let N be the number in decimal\n",
        "n=3735928559\n"
      ],
      "metadata": {
        "id": "587qlFvmPpDi"
      },
      "execution_count": null,
      "outputs": []
    },
    {
      "cell_type": "code",
      "source": [
        "#Let Hex be the Hexa decimal number corresponding to the decimal number. Then Hex given by finding the remainders after diving by 16.\n",
        "#The remainders are written from the final remainder as units position. If the remainder is 10 or more, it is replaced by alphabet a-f\n",
        "hex=\"\"\n",
        "while n>0:\n",
        "  d=n%16 ##to get digit starting from unit's place\n",
        "  n=n//16\n",
        "  if n<10:\n",
        "    hex= str(d)+hex\n",
        "  else:\n",
        "    if d==10:\n",
        "      hex='a'+hex\n",
        "    if d==11:\n",
        "      hex='b'+hex\n",
        "    if d==12:\n",
        "      hex='c'+hex\n",
        "    if d==13:\n",
        "      hex='d'+hex\n",
        "    if d==14:\n",
        "      hex='e'+hex\n",
        "    if d==15:\n",
        "      hex='f'+hex\n",
        "print(\"The Hexadecimal form of the above number is \"+hex)\n"
      ],
      "metadata": {
        "colab": {
          "base_uri": "https://localhost:8080/"
        },
        "id": "uKcik9mdPrAs",
        "outputId": "82a1bc77-8a84-4e92-84b6-3edd8ebdaff9"
      },
      "execution_count": 8,
      "outputs": [
        {
          "output_type": "stream",
          "name": "stdout",
          "text": [
            "The Hexadecimal form of the above number is \n"
          ]
        }
      ]
    },
    {
      "cell_type": "markdown",
      "source": [
        "Part 4 - Using two’s complement preform the base ten subtraction 25 − 37. Check your answer."
      ],
      "metadata": {
        "id": "cKVyHuTgPw58"
      }
    },
    {
      "cell_type": "code",
      "source": [
        "#let n1 and n2 be the two numbers\n",
        "n1=25\n",
        "n2=37"
      ],
      "metadata": {
        "id": "bOn_SoTGPzg7"
      },
      "execution_count": 12,
      "outputs": []
    },
    {
      "cell_type": "code",
      "source": [
        "#We describe a function to calculate the binary of a decimal number\n",
        "def Decimal_to_Binary(n):\n",
        "  b=''\n",
        "  while n>0:\n",
        "    b=str(n%2) + b\n",
        "    n=n//2\n",
        "  return b \n"
      ],
      "metadata": {
        "id": "6wEJB5pSQLJe"
      },
      "execution_count": 13,
      "outputs": []
    },
    {
      "cell_type": "code",
      "source": [
        "#Let b1 and b2 be the corresponding binary numbers.\n",
        "b1 = Decimal_to_Binary(n1)\n",
        "b2 = Decimal_to_Binary(n2)\n",
        "#this 1st bit represents the sign. 1-> -ve and 0-> +ve\n",
        "if(n1>=0):\n",
        "  b1 = '0'+b1\n",
        "else:\n",
        "  b1 = '1'+b1\n",
        "if(n2>=0):\n",
        "  b2 = '0'+b2\n",
        "else:\n",
        "  b2 = '0'+b2"
      ],
      "metadata": {
        "id": "j4rmtNp6QOKP"
      },
      "execution_count": 14,
      "outputs": []
    },
    {
      "cell_type": "code",
      "source": [
        "# Finding 1's Compliment of b2\n",
        "# To change to 1's Compliment : replace 1->0 and 0->1\n",
        "\n",
        "#Let b2_1_Compliment be the 1's compliment of b2\n",
        "b2_1_compliment='' \n",
        "for i in range(len(b2)):\n",
        "  if b2[i]=='1':\n",
        "    b2_1_compliment = b2_1_compliment+'0'\n",
        "  else :\n",
        "    b2_1_compliment = b2_1_compliment+ '1'\n",
        "  \n",
        "print(\"The 1's Compliment of 37 is \"+b2_1_compliment)"
      ],
      "metadata": {
        "colab": {
          "base_uri": "https://localhost:8080/"
        },
        "id": "RNjl29DhQRL2",
        "outputId": "816e5cf2-91fc-430f-cae6-ae6997f80d31"
      },
      "execution_count": 15,
      "outputs": [
        {
          "output_type": "stream",
          "name": "stdout",
          "text": [
            "The 1's Compliment of 37 is 1011010\n"
          ]
        }
      ]
    },
    {
      "cell_type": "code",
      "source": [
        "# Defining Func for binary addition\n",
        "def add(b1,b2):\n",
        "  i=0\n",
        "  mLen = max(len(b1),len(b2))\n",
        "  b1 = b1.zfill(mLen)\n",
        "  b2 = b2.zfill(mLen)\n",
        "  carry = 0\n",
        "  sum=''\n",
        "  while i<len(b1):\n",
        "    if int(b1[mLen-i-1])+int(b2[mLen-i-1])+carry == 0:\n",
        "      sum = '0'+sum\n",
        "      carry = 0\n",
        "    elif int(b1[mLen-i-1])+int(b2[mLen-i-1])+carry == 1:\n",
        "      sum = '1'+sum\n",
        "      carry = 0\n",
        "    elif int(b1[mLen-i-1])+int(b2[mLen-i-1])+carry == 2:\n",
        "      sum = '0'+sum\n",
        "      carry = 1\n",
        "    else:\n",
        "      sum = '1'+sum\n",
        "      carry = 1\n",
        "    i=i+1\n",
        "  if carry == 1:\n",
        "    sum= '1'+sum\n",
        "  return sum\n",
        "\n"
      ],
      "metadata": {
        "id": "BvAtRHztQU1_"
      },
      "execution_count": 16,
      "outputs": []
    },
    {
      "cell_type": "code",
      "source": [
        "#Finding the 2's Compliment \n",
        "# 2' Compliment = 1's Compliment + 1   Here we perform\n",
        "\n",
        "b2_2_compliment = add(b2_1_compliment,'1')\n",
        "print(\"The 2's Compliment of b2 is \"+b2_2_compliment)"
      ],
      "metadata": {
        "colab": {
          "base_uri": "https://localhost:8080/"
        },
        "id": "bfJDL3fcQX-K",
        "outputId": "8f40bb79-760f-4ff1-9e75-ea73d5b92f36"
      },
      "execution_count": 17,
      "outputs": [
        {
          "output_type": "stream",
          "name": "stdout",
          "text": [
            "The 2's Compliment of b2 is 1011011\n"
          ]
        }
      ]
    },
    {
      "cell_type": "code",
      "source": [
        "# Now for 25-37, we need to do the operation Bin(25) + 2's Compliment of Bin(37)\n",
        "Required_Result = add(b1,b2_2_compliment)\n",
        "#Now we convert it to decimal\n",
        "print(\"The binary value of 25-37 is \" + Required_Result)\n",
        "#Note : the first bit of the result denote sign, so it does not contribute to the Numerical Value \n",
        "#let r be the result\n",
        "r=0\n",
        "i=0\n",
        "#summing all the digits except the last two since the 2nd last position is signed \n",
        "# Example : if binary signed number is 11010 : Corresponding Decimal would be (-1)*1*2^3+0*2^2+1*2^1+0*2^0 = -8 + 0 + 2 + 0 = -6  \n",
        "for i in range(len(Required_Result)-1):\n",
        "  digit=int(Required_Result[len(Required_Result)-i-1])\n",
        "  r = r +(2**i)*digit\n",
        "r= r+(-1)**int(Required_Result[0])*(int(Required_Result[1]))*(2**(len(Required_Result)-1))\n",
        "\n",
        "print(\"Therefore the value of 25-37 equals \" + str(r))"
      ],
      "metadata": {
        "colab": {
          "base_uri": "https://localhost:8080/"
        },
        "id": "swlX8DFTQedx",
        "outputId": "a555ef29-e033-4937-bdfe-9fa58f92767e"
      },
      "execution_count": 18,
      "outputs": [
        {
          "output_type": "stream",
          "name": "stdout",
          "text": [
            "The binary value of 25-37 is 1110100\n",
            "Therefore the value of 25-37 equals -12\n"
          ]
        }
      ]
    },
    {
      "cell_type": "code",
      "source": [
        "# Checking\n",
        "if (25-37) == r:\n",
        "  print(\"Check successful\")\n",
        "else:\n",
        "  print(\"Check Unsuccessful\")"
      ],
      "metadata": {
        "colab": {
          "base_uri": "https://localhost:8080/"
        },
        "id": "MEyZfcWqQmnU",
        "outputId": "dfc5c4a7-33ff-4b5b-ead3-1a2952d61ac6"
      },
      "execution_count": 19,
      "outputs": [
        {
          "output_type": "stream",
          "name": "stdout",
          "text": [
            "Check successful\n"
          ]
        }
      ]
    },
    {
      "cell_type": "markdown",
      "source": [
        "Question 2 : Be sure to comment on the following:"
      ],
      "metadata": {
        "id": "3ju9qiYMQp5O"
      }
    },
    {
      "cell_type": "markdown",
      "source": [
        "a) Describe your findings in words. - In the above computations we have found out how numbers of different base can be transformed from one base to another as per our convenience and need. We can observe as we increase base the no of digits required to represent a number decreases but on the contrary more types of digits are necessary. For example in Binary 15 requires 4 number of digits - 1111 but only 1s and 0s are sufficient to represent any number, but in decimal we need two digits, 1 and 5 but for representing any number 0-9 types of digits are essential. "
      ],
      "metadata": {
        "id": "2JvO77zVQsm9"
      }
    },
    {
      "cell_type": "markdown",
      "source": [
        "b)  Discuss why binary and hexadecimal are important to computers. - The computer is capable of understanding only Machine Level Language which consists of 0s and 1s and can be represented as Low Voltage and High Voltage respectively. Thus we require Binary System so that our instructions can be understood by the computer. The 0 represent 'Off State' and 1 represents 'On State'. The Hexadecimal code is used in Computer Science mainly to represent Memory Location. This is usually done, because computer has a lot of memory these days and if we would like to represent them using binary digits, the names would be too long. Moreover Hexadecimal is similar to decimal and has more readability."
      ],
      "metadata": {
        "id": "iWe-3a1EQuZc"
      }
    },
    {
      "cell_type": "code",
      "source": [
        ""
      ],
      "metadata": {
        "id": "kxrTxQEqQyLK"
      },
      "execution_count": null,
      "outputs": []
    }
  ]
}