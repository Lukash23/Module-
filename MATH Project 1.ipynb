{
  "cells": [
    {
      "cell_type": "markdown",
      "metadata": {
        "id": "view-in-github",
        "colab_type": "text"
      },
      "source": [
        "<a href=\"https://colab.research.google.com/github/Lukash23/Module-/blob/main/MATH%20Project%201.ipynb\" target=\"_parent\"><img src=\"https://colab.research.google.com/assets/colab-badge.svg\" alt=\"Open In Colab\"/></a>"
      ]
    },
    {
      "cell_type": "markdown",
      "source": [
        "Lukash Shrestha \n",
        "Nicholas Jacob\n",
        "MATH-2825-01\n",
        "09/08/2022"
      ],
      "metadata": {
        "id": "Q6WSG0kVNAy7"
      },
      "id": "Q6WSG0kVNAy7"
    },
    {
      "cell_type": "markdown",
      "id": "8f0084ca",
      "metadata": {
        "id": "8f0084ca"
      },
      "source": [
        "## 1. (a)"
      ]
    },
    {
      "cell_type": "code",
      "execution_count": 1,
      "id": "1b0fd233",
      "metadata": {
        "colab": {
          "base_uri": "https://localhost:8080/"
        },
        "id": "1b0fd233",
        "outputId": "3f557e1d-23c5-49f6-8c57-fbc81912e2ca"
      },
      "outputs": [
        {
          "output_type": "execute_result",
          "data": {
            "text/plain": [
              "1.0"
            ]
          },
          "metadata": {},
          "execution_count": 1
        }
      ],
      "source": [
        "import math\n",
        "\n",
        "\n",
        "def f(alpha, x):\n",
        "    return math.sqrt((alpha * x) + 1)\n",
        "\n",
        "f(1,0)"
      ]
    },
    {
      "cell_type": "markdown",
      "id": "a8fd2410",
      "metadata": {
        "id": "a8fd2410"
      },
      "source": [
        "## (b) \n",
        "The lower limit b of the dormain of the equation is b=0 given alpha is 1. This is because the function becomes undefined for values of x smaller values than 0."
      ]
    },
    {
      "cell_type": "markdown",
      "id": "90d01edf",
      "metadata": {
        "id": "90d01edf"
      },
      "source": [
        "## (c)"
      ]
    },
    {
      "cell_type": "code",
      "execution_count": 2,
      "id": "e3ec69d4",
      "metadata": {
        "colab": {
          "base_uri": "https://localhost:8080/",
          "height": 215
        },
        "id": "e3ec69d4",
        "outputId": "0373404b-53f0-49a8-e4dc-fe91483dc8b0"
      },
      "outputs": [
        {
          "output_type": "error",
          "ename": "NameError",
          "evalue": "ignored",
          "traceback": [
            "\u001b[0;31m---------------------------------------------------------------------------\u001b[0m",
            "\u001b[0;31mNameError\u001b[0m                                 Traceback (most recent call last)",
            "\u001b[0;32m<ipython-input-2-36c020bbebc1>\u001b[0m in \u001b[0;36m<module>\u001b[0;34m\u001b[0m\n\u001b[1;32m      5\u001b[0m     \u001b[0mj\u001b[0m \u001b[0;34m=\u001b[0m \u001b[0mmath\u001b[0m\u001b[0;34m.\u001b[0m\u001b[0msqrt\u001b[0m\u001b[0;34m(\u001b[0m\u001b[0;34m(\u001b[0m\u001b[0malpha\u001b[0m \u001b[0;34m*\u001b[0m \u001b[0mnum\u001b[0m\u001b[0;34m)\u001b[0m \u001b[0;34m+\u001b[0m \u001b[0;36m1\u001b[0m\u001b[0;34m)\u001b[0m\u001b[0;34m\u001b[0m\u001b[0;34m\u001b[0m\u001b[0m\n\u001b[1;32m      6\u001b[0m     \u001b[0my\u001b[0m\u001b[0;34m.\u001b[0m\u001b[0mappend\u001b[0m\u001b[0;34m(\u001b[0m\u001b[0mj\u001b[0m\u001b[0;34m)\u001b[0m\u001b[0;34m\u001b[0m\u001b[0;34m\u001b[0m\u001b[0m\n\u001b[0;32m----> 7\u001b[0;31m \u001b[0mplt\u001b[0m\u001b[0;34m.\u001b[0m\u001b[0mplot\u001b[0m\u001b[0;34m(\u001b[0m\u001b[0mx\u001b[0m\u001b[0;34m,\u001b[0m \u001b[0my\u001b[0m\u001b[0;34m)\u001b[0m\u001b[0;34m\u001b[0m\u001b[0;34m\u001b[0m\u001b[0m\n\u001b[0m\u001b[1;32m      8\u001b[0m \u001b[0mplt\u001b[0m\u001b[0;34m.\u001b[0m\u001b[0mshow\u001b[0m\u001b[0;34m(\u001b[0m\u001b[0;34m)\u001b[0m\u001b[0;34m\u001b[0m\u001b[0;34m\u001b[0m\u001b[0m\n",
            "\u001b[0;31mNameError\u001b[0m: name 'plt' is not defined"
          ]
        }
      ],
      "source": [
        "x = [x for x in range(0, 5)]\n",
        "y = []\n",
        "alpha = 1\n",
        "for num in x:\n",
        "    j = math.sqrt((alpha * num) + 1)\n",
        "    y.append(j)\n",
        "plt.plot(x, y)\n",
        "plt.show()"
      ]
    },
    {
      "cell_type": "markdown",
      "id": "2bd58d65",
      "metadata": {
        "id": "2bd58d65"
      },
      "source": [
        "## 2. (a)"
      ]
    },
    {
      "cell_type": "code",
      "execution_count": 3,
      "id": "1502bf42",
      "metadata": {
        "colab": {
          "base_uri": "https://localhost:8080/",
          "height": 232
        },
        "id": "1502bf42",
        "outputId": "7a21f4e6-f3d7-4e4f-aef6-43920c42d361"
      },
      "outputs": [
        {
          "output_type": "error",
          "ename": "NameError",
          "evalue": "ignored",
          "traceback": [
            "\u001b[0;31m---------------------------------------------------------------------------\u001b[0m",
            "\u001b[0;31mNameError\u001b[0m                                 Traceback (most recent call last)",
            "\u001b[0;32m<ipython-input-3-97e43f1366f9>\u001b[0m in \u001b[0;36m<module>\u001b[0;34m\u001b[0m\n\u001b[1;32m     14\u001b[0m     \u001b[0my4\u001b[0m\u001b[0;34m.\u001b[0m\u001b[0mappend\u001b[0m\u001b[0;34m(\u001b[0m\u001b[0mr\u001b[0m\u001b[0;34m)\u001b[0m\u001b[0;34m\u001b[0m\u001b[0;34m\u001b[0m\u001b[0m\n\u001b[1;32m     15\u001b[0m \u001b[0;34m\u001b[0m\u001b[0m\n\u001b[0;32m---> 16\u001b[0;31m \u001b[0mplt\u001b[0m\u001b[0;34m.\u001b[0m\u001b[0mplot\u001b[0m\u001b[0;34m(\u001b[0m\u001b[0mx\u001b[0m\u001b[0;34m,\u001b[0m \u001b[0my1\u001b[0m\u001b[0;34m)\u001b[0m\u001b[0;34m\u001b[0m\u001b[0;34m\u001b[0m\u001b[0m\n\u001b[0m\u001b[1;32m     17\u001b[0m \u001b[0mplt\u001b[0m\u001b[0;34m.\u001b[0m\u001b[0mplot\u001b[0m\u001b[0;34m(\u001b[0m\u001b[0mx\u001b[0m\u001b[0;34m,\u001b[0m \u001b[0my2\u001b[0m\u001b[0;34m)\u001b[0m\u001b[0;34m\u001b[0m\u001b[0;34m\u001b[0m\u001b[0m\n\u001b[1;32m     18\u001b[0m \u001b[0mplt\u001b[0m\u001b[0;34m.\u001b[0m\u001b[0mplot\u001b[0m\u001b[0;34m(\u001b[0m\u001b[0mx\u001b[0m\u001b[0;34m,\u001b[0m \u001b[0my3\u001b[0m\u001b[0;34m)\u001b[0m\u001b[0;34m\u001b[0m\u001b[0;34m\u001b[0m\u001b[0m\n",
            "\u001b[0;31mNameError\u001b[0m: name 'plt' is not defined"
          ]
        }
      ],
      "source": [
        "x = [x for x in range(2,10)]\n",
        "y1 = []\n",
        "y2 = []\n",
        "y3 = []\n",
        "y4 = []\n",
        "for num in x:\n",
        "    o = 1/(alpha - num)\n",
        "    y1.append(o)\n",
        "    p = (1/(alpha - num)) * (1/(alpha - num))\n",
        "    y2.append(p)\n",
        "    q = (1/(alpha - num)) * (1/(alpha - num)) * (1/(alpha - num))\n",
        "    y3.append(q)\n",
        "    r = (1/(alpha - num)) * (1/(alpha - num)) * (1/(alpha - num)) * (1/(alpha - num))\n",
        "    y4.append(r)\n",
        "   \n",
        "plt.plot(x, y1)\n",
        "plt.plot(x, y2)\n",
        "plt.plot(x, y3)\n",
        "plt.plot(x, y4)\n",
        "plt.show()"
      ]
    },
    {
      "cell_type": "markdown",
      "id": "5125c0ce",
      "metadata": {
        "id": "5125c0ce"
      },
      "source": [
        "## (b)"
      ]
    },
    {
      "cell_type": "markdown",
      "id": "1f1f53ca",
      "metadata": {
        "id": "1f1f53ca"
      },
      "source": [
        "It is the product of f0 n+1 times. Thus if n is 3 then f3= f0*f0*f0*f0"
      ]
    },
    {
      "cell_type": "markdown",
      "id": "9c9d6f24",
      "metadata": {
        "id": "9c9d6f24"
      },
      "source": [
        "## 3. (a)"
      ]
    },
    {
      "cell_type": "code",
      "execution_count": 4,
      "id": "82ffe38c",
      "metadata": {
        "id": "82ffe38c"
      },
      "outputs": [],
      "source": [
        "def slope(j, k, l, m):\n",
        "    return (m -k)/(l-j)\n",
        "\n",
        "alpha = 1\n"
      ]
    },
    {
      "cell_type": "markdown",
      "id": "e1adf93e",
      "metadata": {
        "id": "e1adf93e"
      },
      "source": [
        "### P(1,0) Q1(2, y1)"
      ]
    },
    {
      "cell_type": "code",
      "execution_count": 5,
      "id": "26ccba93",
      "metadata": {
        "colab": {
          "base_uri": "https://localhost:8080/"
        },
        "id": "26ccba93",
        "outputId": "49bd63a1-4c2c-4064-8f0f-6bcfbc37f11c"
      },
      "outputs": [
        {
          "output_type": "execute_result",
          "data": {
            "text/plain": [
              "1.2246467991473532e-16"
            ]
          },
          "metadata": {},
          "execution_count": 5
        }
      ],
      "source": [
        "x1 = 2\n",
        "y1 = math.sin((2*alpha*math.pi)/x1)\n",
        "\n",
        "slope(1, 0, x1, y1)"
      ]
    },
    {
      "cell_type": "markdown",
      "id": "a3fc12cb",
      "metadata": {
        "id": "a3fc12cb"
      },
      "source": [
        "### P(1,0) Q2(1.5, y2)"
      ]
    },
    {
      "cell_type": "code",
      "execution_count": 6,
      "id": "876d503a",
      "metadata": {
        "colab": {
          "base_uri": "https://localhost:8080/"
        },
        "id": "876d503a",
        "outputId": "968ac8ae-e453-4d19-d136-2664a6bee1f4"
      },
      "outputs": [
        {
          "output_type": "execute_result",
          "data": {
            "text/plain": [
              "-1.7320508075688767"
            ]
          },
          "metadata": {},
          "execution_count": 6
        }
      ],
      "source": [
        "x2 = 1.5\n",
        "y2 = math.sin((2*alpha*math.pi)/x2)\n",
        "\n",
        "slope(1, 0, x2, y2)"
      ]
    },
    {
      "cell_type": "markdown",
      "id": "7e90a87b",
      "metadata": {
        "id": "7e90a87b"
      },
      "source": [
        "### P(1,0) Q3(1.1, y3)"
      ]
    },
    {
      "cell_type": "code",
      "execution_count": 7,
      "id": "91043df7",
      "metadata": {
        "colab": {
          "base_uri": "https://localhost:8080/"
        },
        "id": "91043df7",
        "outputId": "6eeee0f1-8f9f-4fe6-bf15-2d82f6ab6625"
      },
      "outputs": [
        {
          "output_type": "execute_result",
          "data": {
            "text/plain": [
              "-5.4064081745559776"
            ]
          },
          "metadata": {},
          "execution_count": 7
        }
      ],
      "source": [
        "x3 = 1.1\n",
        "y3 = math.sin((2*alpha*math.pi)/x3)\n",
        "\n",
        "slope(1, 0, x3, y3)"
      ]
    },
    {
      "cell_type": "markdown",
      "id": "545a4640",
      "metadata": {
        "id": "545a4640"
      },
      "source": [
        "### P(1,0) Q4(1.01, y4)"
      ]
    },
    {
      "cell_type": "code",
      "execution_count": 8,
      "id": "e21b932f",
      "metadata": {
        "colab": {
          "base_uri": "https://localhost:8080/"
        },
        "id": "e21b932f",
        "outputId": "ae7d7502-3a25-4082-8b52-5ee3067dff9f"
      },
      "outputs": [
        {
          "output_type": "execute_result",
          "data": {
            "text/plain": [
              "-6.216963743148103"
            ]
          },
          "metadata": {},
          "execution_count": 8
        }
      ],
      "source": [
        "x4 = 1.01\n",
        "y4 = math.sin((2*alpha*math.pi)/x4)\n",
        "\n",
        "slope(1, 0, x4, y4)"
      ]
    },
    {
      "cell_type": "markdown",
      "id": "a9204c8b",
      "metadata": {
        "id": "a9204c8b"
      },
      "source": [
        "### P(1,0) Q5(1.001, y5)"
      ]
    },
    {
      "cell_type": "code",
      "execution_count": 9,
      "id": "983f8172",
      "metadata": {
        "colab": {
          "base_uri": "https://localhost:8080/"
        },
        "id": "983f8172",
        "outputId": "9c9d0628-8d71-4403-a57b-0982b29fb992"
      },
      "outputs": [
        {
          "output_type": "execute_result",
          "data": {
            "text/plain": [
              "-6.276867180937287"
            ]
          },
          "metadata": {},
          "execution_count": 9
        }
      ],
      "source": [
        "x5 = 1.001\n",
        "y5 = math.sin((2*alpha*math.pi)/x5)\n",
        "\n",
        "slope(1, 0, x5, y5)"
      ]
    },
    {
      "cell_type": "markdown",
      "id": "e4d332e6",
      "metadata": {
        "id": "e4d332e6"
      },
      "source": [
        "No they do not approach a limit since each of the secant lines has a significantly different gradient."
      ]
    },
    {
      "cell_type": "markdown",
      "id": "479e0ba5",
      "metadata": {
        "id": "479e0ba5"
      },
      "source": [
        "## (b) "
      ]
    },
    {
      "cell_type": "code",
      "execution_count": 12,
      "id": "89136ea3",
      "metadata": {
        "colab": {
          "base_uri": "https://localhost:8080/",
          "height": 265
        },
        "id": "89136ea3",
        "outputId": "e6a11af1-6f15-49e6-c211-437cdfb7aca9"
      },
      "outputs": [
        {
          "output_type": "display_data",
          "data": {
            "text/plain": [
              "<Figure size 432x288 with 1 Axes>"
            ],
            "image/png": "[encoded data removed]"
          },
          "metadata": {
            "needs_background": "light"
          }
        }
      ],
      "source": [
        "import matplotlib.pyplot as plt\n",
        "\n",
        "\n",
        "x = [x for x in range(1, 10)]\n",
        "y = []\n",
        "for num in x:\n",
        "    j = math.sin((2*alpha*math.pi)/num)\n",
        "    y.append(j)\n",
        "plt.plot(x, y)\n",
        "plt.plot([1,x1], [0,y1])\n",
        "plt.plot([1,x2], [0,y2])\n",
        "plt.plot([1,x3], [0,y3])\n",
        "plt.plot([1,x4], [0,y4])\n",
        "plt.plot([1,x5], [0,y5])\n",
        "plt.show()\n",
        "\n"
      ]
    },
    {
      "cell_type": "markdown",
      "id": "b89a713f",
      "metadata": {
        "id": "b89a713f"
      },
      "source": [
        "The tangent line at point p of the curve has a significantly different gradient compaired to the points in the open interval (1,2).\n",
        "Therefore these points cannot be used to estimate the gradient of point P. "
      ]
    },
    {
      "cell_type": "markdown",
      "id": "f8e9f637",
      "metadata": {
        "id": "f8e9f637"
      },
      "source": [
        "## (c)"
      ]
    },
    {
      "cell_type": "code",
      "execution_count": 11,
      "id": "326a9cb6",
      "metadata": {
        "colab": {
          "base_uri": "https://localhost:8080/"
        },
        "id": "326a9cb6",
        "outputId": "99b15fb3-47de-460a-ac7b-0ed87797fc58"
      },
      "outputs": [
        {
          "output_type": "execute_result",
          "data": {
            "text/plain": [
              "1.2246467991473532e-16"
            ]
          },
          "metadata": {},
          "execution_count": 11
        }
      ],
      "source": [
        "x1 = 2\n",
        "y1 = math.sin((2*alpha*math.pi)/x1)\n",
        "\n",
        "slope(1, 0, x1, y1)"
      ]
    },
    {
      "cell_type": "markdown",
      "source": [],
      "metadata": {
        "id": "biG9JJnUM_iN"
      },
      "id": "biG9JJnUM_iN"
    },
    {
      "cell_type": "code",
      "execution_count": null,
      "id": "d9ec3344",
      "metadata": {
        "id": "d9ec3344"
      },
      "outputs": [],
      "source": []
    }
  ],
  "metadata": {
    "kernelspec": {
      "display_name": "Python 3",
      "language": "python",
      "name": "python3"
    },
    "language_info": {
      "codemirror_mode": {
        "name": "ipython",
        "version": 3
      },
      "file_extension": ".py",
      "mimetype": "text/x-python",
      "name": "python",
      "nbconvert_exporter": "python",
      "pygments_lexer": "ipython3",
      "version": "3.8.8"
    },
    "colab": {
      "provenance": [],
      "include_colab_link": true
    }
  },
  "nbformat": 4,
  "nbformat_minor": 5
}