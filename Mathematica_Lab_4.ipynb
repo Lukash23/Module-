{
  "cells": [
    {
      "cell_type": "markdown",
      "metadata": {
        "id": "view-in-github",
        "colab_type": "text"
      },
      "source": [
        "<a href=\"https://colab.research.google.com/github/Lukash23/Module-/blob/main/Mathematica_Lab_4.ipynb\" target=\"_parent\"><img src=\"https://colab.research.google.com/assets/colab-badge.svg\" alt=\"Open In Colab\"/></a>"
      ]
    },
    {
      "cell_type": "markdown",
      "id": "3f7d8119",
      "metadata": {
        "id": "3f7d8119"
      },
      "source": [
        "Lukash Shrestha \n",
        "Nicholas Jacob\n",
        "MATH-2825-01\n",
        "12/05/2022"
      ]
    },
    {
      "cell_type": "markdown",
      "id": "c663715d",
      "metadata": {
        "id": "c663715d"
      },
      "source": [
        "### Define Helpull Libraries and Functions"
      ]
    },
    {
      "cell_type": "code",
      "execution_count": null,
      "id": "6a65e7df",
      "metadata": {
        "id": "6a65e7df"
      },
      "outputs": [],
      "source": [
        "import math\n",
        "import numpy as np\n",
        "import scipy as sp\n",
        "import sympy as smp\n",
        "import matplotlib.pyplot as plt\n",
        "from scipy.integrate import quad\n",
        "from scipy.signal import argrelextrema\n",
        "plt.style.use('fivethirtyeight')"
      ]
    },
    {
      "cell_type": "markdown",
      "id": "ce4c899d",
      "metadata": {
        "id": "ce4c899d"
      },
      "source": [
        "### Last number of the Student ID Number"
      ]
    },
    {
      "cell_type": "code",
      "execution_count": null,
      "id": "8d6d1cec",
      "metadata": {
        "id": "8d6d1cec"
      },
      "outputs": [],
      "source": [
        "a = 5"
      ]
    },
    {
      "cell_type": "markdown",
      "id": "894c2b7a",
      "metadata": {
        "id": "894c2b7a"
      },
      "source": [
        "### Question 01"
      ]
    },
    {
      "cell_type": "code",
      "execution_count": null,
      "id": "4486d4da",
      "metadata": {
        "id": "4486d4da"
      },
      "outputs": [],
      "source": [
        "x = np.linspace(-4, 4, num = 10000)\n",
        "left = -3\n",
        "right = 4\n",
        "bottom = -65\n",
        "top = 20"
      ]
    },
    {
      "cell_type": "code",
      "execution_count": null,
      "id": "69509ee2",
      "metadata": {
        "id": "69509ee2"
      },
      "outputs": [],
      "source": [
        "fx = []\n",
        "gx = []\n",
        "for i in range(len(x)):\n",
        "    fx.append(x[i]**6 - x[i]**5 - a*x[i]**4 - x[i]**2 + x[i] - 1)\n",
        "    gx.append(0)"
      ]
    },
    {
      "cell_type": "code",
      "execution_count": null,
      "id": "a5feb149",
      "metadata": {
        "id": "a5feb149"
      },
      "outputs": [],
      "source": [
        "#print(fx)\n",
        "#print(gx)"
      ]
    },
    {
      "cell_type": "code",
      "execution_count": null,
      "id": "a83385e6",
      "metadata": {
        "id": "a83385e6",
        "outputId": "cf42586f-06b4-48c8-cbb7-54699a3637cf"
      },
      "outputs": [
        {
          "name": "stdout",
          "output_type": "stream",
          "text": [
            "Roots on the Graph\n",
            "[-1.89818982  2.81188119]\n"
          ]
        },
        {
          "data": {
            "image/png": "[encoded data removed]",
            "text/plain": [
              "<Figure size 432x288 with 1 Axes>"
            ]
          },
          "metadata": {},
          "output_type": "display_data"
        }
      ],
      "source": [
        "#plt.axvline('x',linewidth=1)\n",
        "#plt.axhline('y',linewidth=1)\n",
        "fig = plt.figure()\n",
        "ax = fig.add_subplot(111)\n",
        "plt.plot(x, fx, 'b', linewidth=2, label = 'F(x) = 0')\n",
        "plt.plot(x, gx, 'g', linewidth=2, label = 'Y = 0')\n",
        "plt.grid('on')\n",
        "plt.xlim(left, right) \n",
        "plt.ylim(bottom, top)\n",
        "\n",
        "fxa = np.array(fx)\n",
        "gxa = np.array(gx)\n",
        "\n",
        "idx = np.argwhere(np.diff(np.sign(fxa - gxa))).flatten()\n",
        "plt.plot(x[idx], fxa[idx], 'ro', label = 'Intersection Points')\n",
        "print(\"Roots on the Graph\")\n",
        "print(x[idx])\n",
        "plt.legend()\n",
        "\n",
        "plt.show()"
      ]
    },
    {
      "cell_type": "markdown",
      "id": "bb5a2948",
      "metadata": {
        "id": "bb5a2948"
      },
      "source": [
        "### Comments\n",
        "\n",
        "In this graph,\n",
        "the function of f(x) and the y = 0 are plotted.\n",
        "\n",
        "The intersection of above two plots are the roots of the function of f(x)\n",
        "\n",
        "intersection point (i.e. roots) [-1.89818982  2.81188119]"
      ]
    },
    {
      "cell_type": "code",
      "execution_count": null,
      "id": "97ffac43",
      "metadata": {
        "id": "97ffac43",
        "outputId": "d9c1b178-cf87-45de-d542-b7ab44b3a134"
      },
      "outputs": [
        {
          "name": "stdout",
          "output_type": "stream",
          "text": [
            "All roots\n",
            "[ 2.81245654+0.j         -1.89809142+0.j         -0.37756334+0.64680885j\n",
            " -0.37756334-0.64680885j  0.42038078+0.3965398j   0.42038078-0.3965398j ]\n",
            " \n",
            "Only real roots\n",
            "[ 2.81245654+0.j -1.89809142+0.j]\n"
          ]
        }
      ],
      "source": [
        "fn = [1, -1, -a, 0, -1, 1, -1]\n",
        "roots = np.roots(fn)\n",
        "print(\"All roots\")\n",
        "print(roots)\n",
        "print(\" \")\n",
        "print(\"Only real roots\")\n",
        "print(roots[~np.iscomplex(roots)])"
      ]
    },
    {
      "cell_type": "markdown",
      "id": "4d55d008",
      "metadata": {
        "id": "4d55d008"
      },
      "source": [
        "### Comments\n",
        "\n",
        "The roots are found using built-in command.\n",
        "\n",
        "There are two real roots [ 2.81245654+0.j -1.89809142+0.j]\n",
        "\n",
        "four complex roots [ 2.81245654+0.j         -1.89809142+0.j         -0.37756334+0.64680885j\n",
        " -0.37756334-0.64680885j  0.42038078+0.3965398j   0.42038078-0.3965398j ]"
      ]
    },
    {
      "cell_type": "code",
      "execution_count": null,
      "id": "cbc0e654",
      "metadata": {
        "id": "cbc0e654"
      },
      "outputs": [],
      "source": []
    },
    {
      "cell_type": "markdown",
      "id": "119ebda1",
      "metadata": {
        "id": "119ebda1"
      },
      "source": [
        "### Question 02"
      ]
    },
    {
      "cell_type": "code",
      "execution_count": null,
      "id": "78016b6c",
      "metadata": {
        "id": "78016b6c"
      },
      "outputs": [],
      "source": [
        "y = x**a"
      ]
    },
    {
      "cell_type": "code",
      "execution_count": null,
      "id": "343d4ed1",
      "metadata": {
        "id": "343d4ed1"
      },
      "outputs": [],
      "source": [
        "left = 0\n",
        "right = 2\n",
        "bottom =-10\n",
        "top = 40"
      ]
    },
    {
      "cell_type": "code",
      "execution_count": null,
      "id": "fc7af267",
      "metadata": {
        "id": "fc7af267",
        "outputId": "cbfd6eb8-59af-4b74-bfbe-45abd2470780"
      },
      "outputs": [
        {
          "data": {
            "text/plain": [
              "(-10.0, 40.0)"
            ]
          },
          "execution_count": 10,
          "metadata": {},
          "output_type": "execute_result"
        },
        {
          "data": {
            "image/png": "[encoded data removed]",
            "text/plain": [
              "<Figure size 432x288 with 1 Axes>"
            ]
          },
          "metadata": {},
          "output_type": "display_data"
        }
      ],
      "source": [
        "plt.plot(x,y,'b', linewidth=2)\n",
        "plt.grid('on')\n",
        "plt.xlim(left, right) \n",
        "plt.ylim(bottom, top)"
      ]
    },
    {
      "cell_type": "code",
      "execution_count": null,
      "id": "a4abb60c",
      "metadata": {
        "id": "a4abb60c",
        "outputId": "83872b7a-99b1-4d86-f9f2-a3ed9df87e88"
      },
      "outputs": [
        {
          "name": "stdout",
          "output_type": "stream",
          "text": [
            "2e-05\n"
          ]
        }
      ],
      "source": [
        "sum = 0\n",
        "ss = 100000\n",
        "x = np.linspace(0, 2, num = ss)\n",
        "dx = (2-0)/ss\n",
        "print(dx)\n",
        "#print(x)"
      ]
    },
    {
      "cell_type": "code",
      "execution_count": null,
      "id": "0d4bec90",
      "metadata": {
        "id": "0d4bec90",
        "outputId": "d7716ca8-d634-4d06-bd10-3b1bcd9d4f45"
      },
      "outputs": [
        {
          "name": "stdout",
          "output_type": "stream",
          "text": [
            "10.66688000266657\n"
          ]
        }
      ],
      "source": [
        "for i in range(len(x)):\n",
        "    y = x[i]**a\n",
        "    sum += y*dx\n",
        "    \n",
        "print(sum)"
      ]
    },
    {
      "cell_type": "markdown",
      "id": "3839f27a",
      "metadata": {
        "id": "3839f27a"
      },
      "source": [
        "### Comments\n",
        "\n",
        "to find the area under the curve, the area was taken as a sum of area of rectangles in each x\n",
        "\n",
        "Answer is 10.66688000266657"
      ]
    },
    {
      "cell_type": "code",
      "execution_count": null,
      "id": "9a27e5f2",
      "metadata": {
        "id": "9a27e5f2",
        "outputId": "15808cca-f003-4864-bb24-edc2e7066aaf"
      },
      "outputs": [
        {
          "name": "stdout",
          "output_type": "stream",
          "text": [
            "32/3\n",
            "10.666666666666667\n"
          ]
        }
      ],
      "source": [
        "def f(x):\n",
        "    return x**a\n",
        "  \n",
        "x =  smp.Symbol(\"x\")\n",
        "print( smp.integrate(f(x), (x, 0, 2)))\n",
        "print(round(smp.integrate(f(x), (x, 0, 2)),15))\n"
      ]
    },
    {
      "cell_type": "markdown",
      "id": "41cff130",
      "metadata": {
        "id": "41cff130"
      },
      "source": [
        "### Comments\n",
        "\n",
        "The answer was checked by using a definite integral\n",
        "\n",
        "Answer is 10.666666666666667"
      ]
    },
    {
      "cell_type": "code",
      "execution_count": null,
      "id": "d652b63a",
      "metadata": {
        "id": "d652b63a",
        "outputId": "05136a24-1f9f-4dee-be83-c823c8b71e53"
      },
      "outputs": [
        {
          "name": "stdout",
          "output_type": "stream",
          "text": [
            "0.00021333599990298879\n",
            "0.021333599990298879\n"
          ]
        }
      ],
      "source": [
        "err = sum - round(smp.integrate(f(x), (x, 0, 2)),15)\n",
        "print(err)\n",
        "per_err = err * 100\n",
        "print(per_err)"
      ]
    },
    {
      "cell_type": "markdown",
      "id": "249625ac",
      "metadata": {
        "id": "249625ac"
      },
      "source": [
        "### Comments\n",
        "\n",
        "Error between two answers is 0.00021333599990298879 which less than 0.05%"
      ]
    },
    {
      "cell_type": "markdown",
      "id": "b3940b89",
      "metadata": {
        "id": "b3940b89"
      },
      "source": [
        "### Question 03"
      ]
    },
    {
      "cell_type": "code",
      "execution_count": null,
      "id": "61c72c1e",
      "metadata": {
        "id": "61c72c1e"
      },
      "outputs": [],
      "source": [
        "x = smp.symbols('x',real=True)\n",
        "t = smp.symbols('t',real=True)\n",
        "g = smp.sin(t)/t"
      ]
    },
    {
      "cell_type": "code",
      "execution_count": null,
      "id": "2828ef0c",
      "metadata": {
        "scrolled": true,
        "id": "2828ef0c",
        "outputId": "bcc042f4-60c4-482b-f92c-919895540048"
      },
      "outputs": [
        {
          "name": "stdout",
          "output_type": "stream",
          "text": [
            "[0, Si(1), Si(2), Si(3), Si(4), Si(5), Si(6), Si(7), Si(8), Si(9), Si(10), Si(11), Si(12), Si(13), Si(14), Si(15), Si(16), Si(17), Si(18), Si(19), Si(20)]\n"
          ]
        }
      ],
      "source": [
        "sum = 0\n",
        "x = np.arange(0,21,1)\n",
        "sx = []\n",
        "tx = []\n",
        "for i in range(len(x)):\n",
        "    sx.append(smp.integrate(g,(t, 0, i)))\n",
        "    tx.append(1)\n",
        "\n",
        "sx = [0 if math.isnan(x) else x for x in sx]\n",
        "print(sx)"
      ]
    },
    {
      "cell_type": "code",
      "execution_count": null,
      "id": "7b82db48",
      "metadata": {
        "id": "7b82db48",
        "outputId": "2f512209-515a-49ba-84fd-7f310edc8ae3"
      },
      "outputs": [
        {
          "name": "stdout",
          "output_type": "stream",
          "text": [
            "Local Maxima:  (array([ 3,  9, 16], dtype=int64),)\n",
            "Local Minima:  (array([ 6, 13, 19], dtype=int64),)\n"
          ]
        }
      ],
      "source": [
        "arr = np.array(sx)\n",
        "localmaxima = argrelextrema(arr, np.greater)\n",
        "localminima = argrelextrema(arr, np.less)\n",
        "print(\"Local Maxima: \",localmaxima)\n",
        "print(\"Local Minima: \",localminima)"
      ]
    },
    {
      "cell_type": "code",
      "execution_count": null,
      "id": "471c1e78",
      "metadata": {
        "id": "471c1e78"
      },
      "outputs": [],
      "source": [
        "left = 0\n",
        "right = 20\n",
        "bottom = 0\n",
        "top = 2"
      ]
    },
    {
      "cell_type": "code",
      "execution_count": null,
      "id": "54e89291",
      "metadata": {
        "id": "54e89291",
        "outputId": "b09f0182-c7ec-47ba-b2c4-c8efae5c2447"
      },
      "outputs": [
        {
          "data": {
            "image/png": "[encoded data removed]",
            "text/plain": [
              "<Figure size 432x288 with 1 Axes>"
            ]
          },
          "metadata": {},
          "output_type": "display_data"
        }
      ],
      "source": [
        "fig = plt.figure()\n",
        "ax = fig.add_subplot(111)\n",
        "plt.plot(x,sx, 'b', linewidth=2, label = 'Si(x)')\n",
        "plt.xlim(left, right) \n",
        "plt.ylim(bottom, top)\n",
        "\n",
        "i = 0\n",
        "for idx in localmaxima[0].tolist():\n",
        "    ax.plot(x[idx], sx[idx], 'ro', label ='Local Maxima' if i == 0 else \"\")\n",
        "    i += 1\n",
        "\n",
        "i = 0\n",
        "for idx in localminima[0].tolist():\n",
        "    ax.plot(x[idx], sx[idx], 'go', label ='Local Minima' if i == 0 else \"\")\n",
        "    i += 1\n",
        "\n",
        "\n",
        "plt.legend()\n",
        "# labels = ['Si(x)','Local Extrema']\n",
        "# ax.legend(labels)\n",
        "plt.show()"
      ]
    },
    {
      "cell_type": "code",
      "execution_count": null,
      "id": "b1c4e988",
      "metadata": {
        "id": "b1c4e988",
        "outputId": "f6fe6b80-e09e-4460-93de-f0c035cdd868"
      },
      "outputs": [
        {
          "name": "stdout",
          "output_type": "stream",
          "text": [
            "3\n",
            "9\n",
            "16\n"
          ]
        }
      ],
      "source": [
        "for lmax in localmaxima[0].tolist():\n",
        "    print(lmax)"
      ]
    },
    {
      "cell_type": "code",
      "execution_count": null,
      "id": "64e01681",
      "metadata": {
        "id": "64e01681",
        "outputId": "206af177-bc2f-4ff3-c36c-59912f3e5a06"
      },
      "outputs": [
        {
          "name": "stdout",
          "output_type": "stream",
          "text": [
            "6\n",
            "13\n",
            "19\n"
          ]
        }
      ],
      "source": [
        "for lmin in localminima[0].tolist():\n",
        "    print(lmin)"
      ]
    },
    {
      "cell_type": "markdown",
      "id": "228395ae",
      "metadata": {
        "id": "228395ae"
      },
      "source": [
        "### Comments\n",
        "\n",
        "Local Maximas occurs at 3, 9, 16\n",
        "\n",
        "Local Minimas occurs at 6, 13, 19 "
      ]
    },
    {
      "cell_type": "code",
      "execution_count": null,
      "id": "e0983f1b",
      "metadata": {
        "id": "e0983f1b"
      },
      "outputs": [],
      "source": [
        "# x = np.arange(0, 21, 1, dtype=int)\n",
        "# sx = []\n",
        "# for i in range(len(x)):\n",
        "#     sx.append(si[i])\n",
        "# print(sx)"
      ]
    },
    {
      "cell_type": "code",
      "execution_count": null,
      "id": "0354274b",
      "metadata": {
        "id": "0354274b",
        "outputId": "b0b81841-f559-437f-ee33-fd70d0535294"
      },
      "outputs": [
        {
          "name": "stdout",
          "output_type": "stream",
          "text": [
            "[1]\n"
          ]
        },
        {
          "data": {
            "image/png": "[encoded data removed]",
            "text/plain": [
              "<Figure size 432x288 with 1 Axes>"
            ]
          },
          "metadata": {},
          "output_type": "display_data"
        }
      ],
      "source": [
        "fig = plt.figure()\n",
        "ax = fig.add_subplot(111)\n",
        "plt.plot(x,sx, 'b', linewidth=2)\n",
        "plt.plot(x,tx, 'g', linewidth=2)\n",
        "plt.xlim(left, right) \n",
        "plt.ylim(bottom, top)\n",
        "\n",
        "sxa = np.array(sx)\n",
        "txa = np.array(tx)\n",
        "\n",
        "idx = np.argwhere(np.diff(np.sign(sxa - txa))).flatten()\n",
        "print(idx)\n",
        "#plt.plot(x[idx], sxa[idx], 'ro')\n",
        "# print(\"Roots on the Graph\")\n",
        "# print(x[idx])\n",
        "plt.show()"
      ]
    },
    {
      "cell_type": "markdown",
      "id": "ee5ef17b",
      "metadata": {
        "id": "ee5ef17b"
      },
      "source": [
        "### Comments\n",
        "\n",
        "Si(x) = 1 is occured where the intersection of function of Si(x) and y = 1 is happened, which is shown in above graph"
      ]
    },
    {
      "cell_type": "code",
      "execution_count": null,
      "id": "6ecb7278",
      "metadata": {
        "id": "6ecb7278"
      },
      "outputs": [],
      "source": []
    }
  ],
  "metadata": {
    "kernelspec": {
      "display_name": "Python 3 (ipykernel)",
      "language": "python",
      "name": "python3"
    },
    "language_info": {
      "codemirror_mode": {
        "name": "ipython",
        "version": 3
      },
      "file_extension": ".py",
      "mimetype": "text/x-python",
      "name": "python",
      "nbconvert_exporter": "python",
      "pygments_lexer": "ipython3",
      "version": "3.9.12"
    },
    "colab": {
      "provenance": [],
      "include_colab_link": true
    }
  },
  "nbformat": 4,
  "nbformat_minor": 5
}