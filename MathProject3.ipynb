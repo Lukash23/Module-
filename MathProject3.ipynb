{
  "metadata": {
    "kernelspec": {
      "name": "python",
      "display_name": "Python (Pyodide)",
      "language": "python"
    },
    "language_info": {
      "codemirror_mode": {
        "name": "python",
        "version": 3
      },
      "file_extension": ".py",
      "mimetype": "text/x-python",
      "name": "python",
      "nbconvert_exporter": "python",
      "pygments_lexer": "ipython3",
      "version": "3.8"
    },
    "vscode": {
      "interpreter": {
        "hash": "047f99e917ceffbe680b2b9020fdf54b19a555a11e0d9c1f492c64dae244303c"
      }
    },
    "colab": {
      "provenance": [],
      "include_colab_link": true
    }
  },
  "nbformat_minor": 0,
  "nbformat": 4,
  "cells": [
    {
      "cell_type": "markdown",
      "metadata": {
        "id": "view-in-github",
        "colab_type": "text"
      },
      "source": [
        "<a href=\"https://colab.research.google.com/github/Lukash23/Module-/blob/main/MathProject3.ipynb\" target=\"_parent\"><img src=\"https://colab.research.google.com/assets/colab-badge.svg\" alt=\"Open In Colab\"/></a>"
      ]
    },
    {
      "cell_type": "markdown",
      "source": [
        "Lukash Shrestha \n",
        "Nicholas Jacob\n",
        "MATH-2825-01\n",
        "11/03/2022"
      ],
      "metadata": {
        "id": "ke7OFqrCTPfK"
      }
    },
    {
      "cell_type": "code",
      "source": [
        "# Question 1)\n",
        "#(a)\n",
        "import numpy as np\n",
        "from matplotlib import pyplot as plt\n",
        "\n",
        "plt.rcParams[\"figure.figsize\"] = [7.50, 3.50]\n",
        "plt.rcParams[\"figure.autolayout\"] = True\n",
        "\n",
        "def f(x):\n",
        "   return np.sqrt((x**4-x+12)/(x**4+x+12))\n",
        "\n",
        "x = np.linspace(-10, 10, 100)\n",
        "\n",
        "plt.plot(x, f(x), color='red')\n",
        "\n",
        "plt.show()"
      ],
      "metadata": {
        "trusted": true,
        "id": "C3z41jzFy9-V"
      },
      "execution_count": null,
      "outputs": []
    },
    {
      "cell_type": "code",
      "source": [
        "#(b)\n",
        "#derivative\n",
        "\n",
        "dx = x[1]-x[0]\n",
        "y = f(x)\n",
        "dydx = np.gradient(y, dx)\n",
        "\n",
        "dydx"
      ],
      "metadata": {
        "trusted": true,
        "id": "A1l1dq6iy9-Z",
        "outputId": "bcdfc2dc-7631-4130-c9e5-9ed14a28c80b"
      },
      "execution_count": null,
      "outputs": [
        {
          "execution_count": 2,
          "output_type": "execute_result",
          "data": {
            "text/plain": "array([ 0.00031195,  0.00032533,  0.00035356,  0.00038491,  0.0004198 ,\n        0.00045874,  0.00050228,  0.0005511 ,  0.00060598,  0.00066784,\n        0.00073778,  0.00081708,  0.00090728,  0.00101021,  0.00112808,\n        0.00126354,  0.00141981,  0.0016008 ,  0.0018113 ,  0.00205719,\n        0.00234572,  0.00268591,  0.00308899,  0.00356908,  0.0041439 ,\n        0.00483593,  0.00567362,  0.00669318,  0.00794057,  0.00947392,\n        0.011366  ,  0.01370604,  0.01659927,  0.02016031,  0.02449304,\n        0.02964255,  0.03549551,  0.04159778,  0.04687575,  0.04934248,\n        0.04610423,  0.03424111,  0.01282432, -0.01513324, -0.0432234 ,\n       -0.06519552, -0.07837549, -0.08396512, -0.08494557, -0.08401062,\n       -0.08260917, -0.08077828, -0.07727548, -0.06995312, -0.05667103,\n       -0.03684267, -0.01276353,  0.01080762,  0.02908612,  0.03972019,\n        0.04325164,  0.04183095,  0.03774951,  0.03269419,  0.02765247,\n        0.02309355,  0.0191774 ,  0.01590603,  0.01321345,  0.01101272,\n        0.00921796,  0.00775316,  0.00655451,  0.00556994,  0.00475763,\n        0.00408421,  0.00352315,  0.00305335,  0.00265801,  0.00232372,\n        0.00203971,  0.00179732,  0.00158954,  0.00141068,  0.0012561 ,\n        0.00112198,  0.00100518,  0.00090311,  0.00081361,  0.00073488,\n        0.00066541,  0.00060392,  0.00054936,  0.0005008 ,  0.00045747,\n        0.00041872,  0.00038398,  0.00035276,  0.00032464,  0.00031131])"
          },
          "metadata": {}
        }
      ]
    },
    {
      "cell_type": "code",
      "source": [
        "plt.plot(x, dydx, color='red')\n",
        "\n",
        "plt.show()"
      ],
      "metadata": {
        "trusted": true,
        "id": "zsDhu6cSy9-a",
        "outputId": "a5a3a1e8-fa03-4c84-cd03-befa43c25e4b"
      },
      "execution_count": null,
      "outputs": [
        {
          "output_type": "display_data",
          "data": {
            "text/plain": "<pyolite.display.Image at 0x1909c70>",
            "image/png": "[encoded data removed]"
          },
          "metadata": {}
        }
      ]
    },
    {
      "cell_type": "code",
      "source": [
        "from sympy import *\n",
        "\n",
        "x, y = symbols('x y')\n",
        "\n",
        "#plot_implicit(sqrt((x**4-x+12)/(x**4+x+12)))\n",
        "y = Function('y')(x)\n",
        "\n",
        "dydx=diff(sqrt((x**4-x+12)/(x**4+x+12)))\n",
        "dydx\n"
      ],
      "metadata": {
        "trusted": true,
        "id": "DMhHBr-Qy9-b",
        "outputId": "2a54876a-05db-4c0d-8080-ae7512400301"
      },
      "execution_count": null,
      "outputs": [
        {
          "execution_count": 4,
          "output_type": "execute_result",
          "data": {
            "text/plain": "sqrt((x**4 - x + 12)/(x**4 + x + 12))*((-4*x**3 - 1)*(x**4 - x + 12)/(2*(x**4 + x + 12)**2) + (4*x**3 - 1)/(2*(x**4 + x + 12)))*(x**4 + x + 12)/(x**4 - x + 12)",
            "text/latex": "$\\displaystyle \\frac{\\sqrt{\\frac{x^{4} - x + 12}{x^{4} + x + 12}} \\left(\\frac{\\left(- 4 x^{3} - 1\\right) \\left(x^{4} - x + 12\\right)}{2 \\left(x^{4} + x + 12\\right)^{2}} + \\frac{4 x^{3} - 1}{2 \\left(x^{4} + x + 12\\right)}\\right) \\left(x^{4} + x + 12\\right)}{x^{4} - x + 12}$"
          },
          "metadata": {}
        }
      ]
    },
    {
      "cell_type": "code",
      "source": [
        "#(c)\n",
        "dydx=simplify(dydx)\n",
        "dydx\n",
        "\n",
        "#Q1 part c In part b, the derivative is shown without simplification.\n",
        "#The denominator consists of the rotational term as well as without factoring in the numerator.\n",
        "#But for the simplified form in part c, we can see the denominator becomes the irrotational term.\n",
        "#And the expression is simplified with a factoring numerator."
      ],
      "metadata": {
        "trusted": true,
        "id": "niBaVh7Dy9-b",
        "outputId": "13526a51-bce7-4eb2-bd78-2d121e17b0f1"
      },
      "execution_count": null,
      "outputs": [
        {
          "execution_count": 5,
          "output_type": "execute_result",
          "data": {
            "text/plain": "3*sqrt((x**4 - x + 12)/(x**4 + x + 12))*(x**4 - 4)/(x**8 + 24*x**4 - x**2 + 144)",
            "text/latex": "$\\displaystyle \\frac{3 \\sqrt{\\frac{x^{4} - x + 12}{x^{4} + x + 12}} \\left(x^{4} - 4\\right)}{x^{8} + 24 x^{4} - x^{2} + 144}$"
          },
          "metadata": {}
        }
      ]
    },
    {
      "cell_type": "code",
      "source": [
        "#(d)\n",
        "formula = dydx   # to represent the derivative of the given function \n",
        "solve(formula.subs(y,0),x)\n",
        "\n",
        "# This code is taking some time to solve the eqaution "
      ],
      "metadata": {
        "trusted": true,
        "id": "kod0Yc9cy9-c"
      },
      "execution_count": null,
      "outputs": []
    },
    {
      "cell_type": "code",
      "source": [
        "#(e)\n",
        "formula=sqrt((x**4-x+12)/(x**4+x+12))\n",
        "p1 = plot(formula, diff(formula))\n",
        "\n",
        "# We have some ponits the tangent to the curve are horizontal. \n",
        "#dy/dx is eqaul to 0 at that points.\n",
        "\n",
        "\n"
      ],
      "metadata": {
        "trusted": true,
        "id": "SwTiBvpky9-d"
      },
      "execution_count": null,
      "outputs": []
    },
    {
      "cell_type": "code",
      "source": [
        "# Question 2)\n",
        "#(a)\n",
        "import numpy as np\n",
        "from matplotlib import pyplot as plt\n",
        "from sympy import *\n",
        "\n",
        "x, y = symbols('x y')\n",
        "\n",
        "\n",
        "plot(sqrt(x**3+12*x**2))\n",
        "\n",
        "plt.show()"
      ],
      "metadata": {
        "trusted": true,
        "id": "mZYSYxXKy9-e"
      },
      "execution_count": null,
      "outputs": []
    },
    {
      "cell_type": "code",
      "source": [
        "#(b)\n",
        "from sympy import *\n",
        "\n",
        "x, y = symbols('x y')\n",
        "\n",
        "#plot_implicit(sqrt((x**4-x+12)/(x**4+x+12)))\n",
        "y = Function('y')(x)\n",
        "\n",
        "dydx=diff(sqrt(x**3+12*x**2))\n",
        "dydx"
      ],
      "metadata": {
        "trusted": true,
        "id": "k2Kbordhy9-e"
      },
      "execution_count": null,
      "outputs": []
    },
    {
      "cell_type": "code",
      "source": [
        "#(c)\n",
        "#only considering numerator we can find the horizontal tangents\n",
        "f=((3*x**2)/2)+12*x-y\n",
        "solve(f.subs(y,0),x)\n",
        "#horizontal line is at below values for x "
      ],
      "metadata": {
        "trusted": true,
        "id": "VATnSLJRy9-f"
      },
      "execution_count": null,
      "outputs": []
    },
    {
      "cell_type": "code",
      "source": [
        "#(c)\n",
        "#only considering denominator we can find the vertical tangents\n",
        "f=sqrt(x**3+12*x**2)-y\n",
        "solve(f.subs(y,0),x)\n",
        "# we can see x=-12 is only the real solution."
      ],
      "metadata": {
        "trusted": true,
        "id": "P-UDHYV_y9-h"
      },
      "execution_count": null,
      "outputs": []
    },
    {
      "cell_type": "code",
      "source": [
        "#d)\n",
        "#Comparing with the graph, we can verify the solutions. At x=-12, we can see the vertical tangent to the curve. \n",
        "#And at x= -8, we can see the horizontal tangent to the curve. "
      ],
      "metadata": {
        "trusted": true,
        "id": "UtmbSPnHy9-h"
      },
      "execution_count": null,
      "outputs": []
    },
    {
      "cell_type": "code",
      "source": [
        "# Question 3)\n",
        "from sympy import *\n",
        "sigma=12\n",
        "x, y = symbols('x y')\n",
        "\n",
        "#plot_implicit \n",
        "y = Function('y')(x)\n",
        "\n",
        "dydx=diff(exp((-x**2)/2*sigma**2))\n",
        "dydx"
      ],
      "metadata": {
        "trusted": true,
        "id": "Kd77GPp-y9-i"
      },
      "execution_count": null,
      "outputs": []
    },
    {
      "cell_type": "code",
      "source": [
        "#To find the extreme points we consider dy/dx=0.\n",
        "solve(Eq(dydx,0))"
      ],
      "metadata": {
        "trusted": true,
        "id": "yE_Nl1kpy9-i"
      },
      "execution_count": null,
      "outputs": []
    },
    {
      "cell_type": "code",
      "source": [
        "#To find the inflection points we consider d^2y/dx^2=0.\n",
        "dy2dx=diff(dydx)\n",
        "solve(Eq(dydx,0))"
      ],
      "metadata": {
        "trusted": true,
        "id": "I4SYR9zny9-j"
      },
      "execution_count": null,
      "outputs": []
    },
    {
      "cell_type": "code",
      "source": [
        "plot(dy2dx)"
      ],
      "metadata": {
        "trusted": true,
        "id": "PGGKgUahy9-j"
      },
      "execution_count": null,
      "outputs": []
    },
    {
      "cell_type": "code",
      "source": [
        "#(b)\n",
        "from sympy import *\n",
        "sigma=24\n",
        "x, y = symbols('x y')\n",
        "\n",
        "#plot_implicit \n",
        "y = Function('y')(x)\n",
        "\n",
        "dydx=diff(exp((-x**2)/2*sigma**2))\n",
        "dydx"
      ],
      "metadata": {
        "trusted": true,
        "id": "gaif2OnTy9-j"
      },
      "execution_count": null,
      "outputs": []
    },
    {
      "cell_type": "code",
      "source": [
        "solve(Eq(dydx,0))"
      ],
      "metadata": {
        "trusted": true,
        "id": "7JGbmyOTy9-k"
      },
      "execution_count": null,
      "outputs": []
    },
    {
      "cell_type": "code",
      "source": [
        "dy2dx=diff(dydx)\n",
        "solve(Eq(dydx,0))"
      ],
      "metadata": {
        "trusted": true,
        "id": "_4jGJ9BAy9-k"
      },
      "execution_count": null,
      "outputs": []
    },
    {
      "cell_type": "code",
      "source": [
        "plot(dy2dx)"
      ],
      "metadata": {
        "trusted": true,
        "id": "9gyg-9t5y9-k"
      },
      "execution_count": null,
      "outputs": []
    },
    {
      "cell_type": "code",
      "source": [
        "#(c)\n",
        "a=12\n",
        "plot(exp((-x**2)/2*(a)**2),exp((-x**2)/2*(2*a)**2),exp((-x**2)/5*(a)**2),exp((-x**2)/10*(a)**2))"
      ],
      "metadata": {
        "trusted": true,
        "id": "cWfIwf81y9-k"
      },
      "execution_count": null,
      "outputs": []
    },
    {
      "cell_type": "code",
      "source": [],
      "metadata": {
        "id": "beaXT5eNy9-l"
      },
      "execution_count": null,
      "outputs": []
    }
  ]
}